{
 "cells": [
  {
   "cell_type": "markdown",
   "id": "735b2f56-bc1c-459c-b939-12f1b6e543d4",
   "metadata": {
    "tags": []
   },
   "source": [
    "# Imports"
   ]
  },
  {
   "cell_type": "code",
   "execution_count": 3,
   "id": "7fa6288c-773d-49d5-8fce-aebe7cd0060a",
   "metadata": {},
   "outputs": [
    {
     "name": "stdout",
     "output_type": "stream",
     "text": [
      "C:\\Users\\nkalimip\\Downloads\\sentinelsat-main\\sentinelsat-main\n"
     ]
    }
   ],
   "source": [
    "%cd C:/Users/nkalimip/Downloads/sentinelsat-main/sentinelsat-main"
   ]
  },
  {
   "cell_type": "markdown",
   "id": "6d03fe0f-6c5f-4a77-9104-51732872a1d8",
   "metadata": {},
   "source": [
    "1.  Parse csv file to extract ALL image names, even multiple entries\n",
    "        parse data as csv\n",
    "        extract the column as a list of lists\n",
    "        flatten the lixt of lists into one big list\n",
    "        remove null none \n",
    "2.  make pandas df from clean list with one column correspondng to input image name\n",
    "3.  write function to search for the input image name in gee and return system:id , put in new column of pandas df\n",
    "        start gee api\n",
    "        in python for loop of df column of image names\n",
    "            use gee command to filter the S2 collection to get image \n",
    "            real_name = ee.ImageCollection(\"COPERNICUS/S2_SR_HARMONIZED\") \\\n",
    "                    .filter(ee.Filter.equals(\"system:index\",\"20210719T190919_20210719T191700_T10TER\")) \\\n",
    "                         .first() \\\n",
    "                         .get('PRODUCT_ID') \\\n",
    "                         .getInfo()\n",
    "4.  iterate over list of real names\n",
    "    "
   ]
  },
  {
   "cell_type": "code",
   "execution_count": 10,
   "id": "8c3f39f3-865e-4e34-bb00-87c4852b2da3",
   "metadata": {},
   "outputs": [
    {
     "name": "stderr",
     "output_type": "stream",
     "text": [
      "C:\\Users\\nkalimip\\Anaconda3\\envs\\simha1\\lib\\site-packages\\tqdm\\auto.py:22: TqdmWarning: IProgress not found. Please update jupyter and ipywidgets. See https://ipywidgets.readthedocs.io/en/stable/user_install.html\n",
      "  from .autonotebook import tqdm as notebook_tqdm\n"
     ]
    }
   ],
   "source": [
    "#import libraries\n",
    "import ee\n",
    "import pandas as pd\n",
    "import os\n",
    "\n",
    "# connect to the API\n",
    "from sentinelsat import SentinelAPI, read_geojson, geojson_to_wkt\n",
    "\n",
    "# sentinelsat requirements\n",
    "# requests\n",
    "# click >= 7.1\n",
    "# html2text\n",
    "# geojson >= 2\n",
    "# tqdm >= 4.58\n",
    "# geomet\n",
    "\n",
    "from datetime import date"
   ]
  },
  {
   "cell_type": "code",
   "execution_count": 11,
   "id": "d8fcd67d-6194-4615-9470-8c34cc55b9f9",
   "metadata": {},
   "outputs": [
    {
     "data": {
      "text/html": [
       "<p>To authorize access needed by Earth Engine, open the following\n",
       "        URL in a web browser and follow the instructions:</p>\n",
       "        <p><a href=https://code.earthengine.google.com/client-auth?scopes=https%3A//www.googleapis.com/auth/earthengine%20https%3A//www.googleapis.com/auth/devstorage.full_control&request_id=xCkUmnXrhOLddaNTFE1jS1ugY57fhmA4GYCmukukjUw&tc=rl7BovxFROyDyBSkoPcxhtvbroa0HPL0Tx7NRhIiCNM&cc=BwIdGhi-mf9nFjYK0i8LXSKUHPPwas57SgQJJA36pgA>https://code.earthengine.google.com/client-auth?scopes=https%3A//www.googleapis.com/auth/earthengine%20https%3A//www.googleapis.com/auth/devstorage.full_control&request_id=xCkUmnXrhOLddaNTFE1jS1ugY57fhmA4GYCmukukjUw&tc=rl7BovxFROyDyBSkoPcxhtvbroa0HPL0Tx7NRhIiCNM&cc=BwIdGhi-mf9nFjYK0i8LXSKUHPPwas57SgQJJA36pgA</a></p>\n",
       "        <p>The authorization workflow will generate a code, which you should paste in the box below.</p>\n",
       "        "
      ],
      "text/plain": [
       "<IPython.core.display.HTML object>"
      ]
     },
     "metadata": {},
     "output_type": "display_data"
    },
    {
     "name": "stdin",
     "output_type": "stream",
     "text": [
      "Enter verification code:  4/1AWtgzh4vTz6cdQUhIh3JN3uMq4TU_wXRO-Bg_IPpymp3y5dY4Bz2vgfXJIc\n"
     ]
    },
    {
     "name": "stdout",
     "output_type": "stream",
     "text": [
      "\n",
      "Successfully saved authorization token.\n"
     ]
    }
   ],
   "source": [
    "#Autheticate and initillize Google Earth Engine\n",
    "ee.Authenticate()\n",
    "ee.Initialize()"
   ]
  },
  {
   "cell_type": "markdown",
   "id": "64084dce-39a8-470d-9488-e637f2f6a6e8",
   "metadata": {
    "tags": []
   },
   "source": [
    "# Directory Function"
   ]
  },
  {
   "cell_type": "code",
   "execution_count": 4,
   "id": "3bd852e0-b589-4f88-8c3c-b008de32eb4c",
   "metadata": {},
   "outputs": [],
   "source": [
    "def directory1(directory):\n",
    "    \"\"\"Gets the names of a directory\"\"\"\n",
    "    entries = os.listdir(directory)\n",
    "    return entries\n",
    "    # print(entries)  "
   ]
  },
  {
   "cell_type": "markdown",
   "id": "85ab7b5c-bd63-4f58-98ae-4c0ff5d62822",
   "metadata": {
    "tags": []
   },
   "source": [
    "# Cleans CSV lists Function"
   ]
  },
  {
   "cell_type": "code",
   "execution_count": 5,
   "id": "4154cf39-c25c-490e-aac0-a3ace68fa0ca",
   "metadata": {},
   "outputs": [],
   "source": [
    "def list_splitter(data,name):\n",
    "    \"\"\"cleans/splits df of list of images\"\"\"\n",
    "    \n",
    "    # Input data\n",
    "    df = pd.read_csv(data)\n",
    "    # print(df)\n",
    "    \n",
    "    # Change type to string, remove [], send to list\n",
    "    df['Images'] = df['Images'].astype(str)\n",
    "    # print(df['Images'])\n",
    "    df['Images'] = df['Images'].map(lambda x: x.lstrip('[').rstrip(']'))\n",
    "    list_of_img =  df[\"Images\"].tolist() \n",
    "    # print(list_img)\n",
    "    \n",
    "    # Clean list without nan\n",
    "    cleanedList = [x for x in list_of_img if str(x) != 'nan']\n",
    "    \n",
    "    # Print list\n",
    "    # print(\"list1\")\n",
    "    # print(cleanedList)\n",
    "    \n",
    "    # print(\"#---------------------------\")\n",
    "    # print(len(cleanedList))\n",
    "    \n",
    "    # Arrays\n",
    "    cleanedList2  = []\n",
    "    list_to_add = []\n",
    "    \n",
    "    # Find list images containing more than 1 img\n",
    "    for counter0 in range(0,len(cleanedList)):\n",
    "        count_comma = cleanedList[counter0].count(',')\n",
    "        # print(count_comma)\n",
    "       \n",
    "        if count_comma>0:\n",
    "            list_multiple  = cleanedList[counter0]\n",
    "            # print(list_multiple)\n",
    "            cleanedList2.append(list_multiple)\n",
    "            \n",
    "    # Find list images containing 1 img  \n",
    "    cleanedList3 = [item for item in cleanedList if item not in cleanedList2]\n",
    "    \n",
    "    # Print\n",
    "    # print(\"clean list2\")\n",
    "    # print(cleanedList2)\n",
    "    # print(\"clean list3\")\n",
    "    # print(cleanedList3)\n",
    "\n",
    "    # Split the data into separate imgs \n",
    "    for counter1 in range(0,len(cleanedList2)):\n",
    "        list_item =cleanedList2[counter1] \n",
    "        # print(list_item)\n",
    "        mylist = list_item.split(',')\n",
    "        for counter2 in range(0,len(mylist)):\n",
    "            withoutspace  = mylist[counter2].replace(\" \",\"\")\n",
    "            \n",
    "            list_to_add.append(withoutspace)\n",
    "    \n",
    "    \n",
    "    # print(\"list to add\")\n",
    "    # print(list_to_add)\n",
    "    \n",
    "    \n",
    "    # add two lists      \n",
    "    list_fin = list_to_add+cleanedList3\n",
    "    \n",
    "    # create dataframe\n",
    "    newdf= pd.DataFrame(list_fin,columns=[\"Images__clean\"])\n",
    "    newdf = newdf.drop_duplicates()\n",
    "    \n",
    "    newdf[\"neon_sites\"] = name\n",
    "\n",
    "    # newdf.to_csv(\"/home/richard_fernandes/Downloads/data1.csv\")\n",
    "    \n",
    "    print(\"______________________________________________\")\n",
    "    return newdf\n",
    "\n",
    "    \n",
    "# print(list_splitter(\"/home/richard_fernandes/Downloads/S2_clearskyImage/ABBY_kmlwithImages.csv\"))\n",
    "# print(list_splitter(\"/home/richard_fernandes/Downloads/S2_clearskyImage/DSNYCLEARIMAGES2.csv\"))\n",
    "# print(list_splitter(\"/home/richard_fernandes/Downloads/S2_clearskyImage/UNDECLEARIMAGES.csv\"))"
   ]
  },
  {
   "cell_type": "markdown",
   "id": "7cca3666-4d3f-4bb9-a695-a4678f0ab5d2",
   "metadata": {
    "tags": []
   },
   "source": [
    "# Real Name Function"
   ]
  },
  {
   "cell_type": "code",
   "execution_count": 6,
   "id": "5ff2f851-cf87-4f8a-9ba3-0b2a0fbabbcc",
   "metadata": {},
   "outputs": [],
   "source": [
    "def real_name(short_name):\n",
    "    \"\"\" function to help find real names of files\"\"\"\n",
    "    real_name = ee.ImageCollection(\"COPERNICUS/S2_SR_HARMONIZED\") \\\n",
    "                    .filter(ee.Filter.equals(\"system:index\",short_name)) \\\n",
    "                    .first() \\\n",
    "                    .get('PRODUCT_ID') \\\n",
    "                    .getInfo()\n",
    "\n",
    "    return real_name"
   ]
  },
  {
   "cell_type": "code",
   "execution_count": 40,
   "id": "b9fe9279-331e-4b82-9713-a11172c91f22",
   "metadata": {},
   "outputs": [
    {
     "name": "stdout",
     "output_type": "stream",
     "text": [
      "S2B_MSIL2A_20210719T190919_N0301_R056_T10TER_20210719T215339\n"
     ]
    }
   ],
   "source": [
    "# print(real_name(\"20210719T190919_20210719T191700_T10TER\"))"
   ]
  },
  {
   "cell_type": "markdown",
   "id": "aff956cd-69a9-4f80-a096-0655f98f3b64",
   "metadata": {
    "tags": []
   },
   "source": [
    "# Search string Function"
   ]
  },
  {
   "cell_type": "code",
   "execution_count": 7,
   "id": "5a770b53-a665-408d-82dc-0d65e8322b2a",
   "metadata": {},
   "outputs": [],
   "source": [
    "def search_string(string1):\n",
    "    \"\"\" searchs esa datahub for image and downsloads it \"\"\"\n",
    "    \n",
    "    # Connect to the API\n",
    "    api = SentinelAPI('****', '*******', 'https://apihub.copernicus.eu/apihub')\n",
    "\n",
    "    # Split string \n",
    "    string = string1 \n",
    "    split_s=string.split(\"_\")\n",
    "    \n",
    "    # Built a file string\n",
    "    sat_name = \"S2A\"+\"_\"\n",
    "    rest_name = split_s[1]+\"_\"+split_s[2]+\"_\"+split_s[3]+\"_\"+split_s[4]+\"_\"+split_s[5]+\"_\"+split_s[6]\n",
    "    safe_name = '.SAFE'\n",
    "    # # wc = '_*_'\n",
    "\n",
    "    #try and except to find errors\n",
    "    try:\n",
    "        print(\"#--------Try---------------------------------------\")\n",
    "        sat_name = 'S2A_'\n",
    "        \n",
    "        # Find and query image\n",
    "        filename1 = sat_name+rest_name+safe_name\n",
    "        # print(filename1)\n",
    "\n",
    "        query1 = api.query(filename = filename1)\n",
    "        # print(query1)\n",
    "        \n",
    "        # download information\n",
    "        api.download_all(query1)\n",
    "        result = api.download_all(query1)\n",
    "        # print(result)\n",
    "        \n",
    "        #check if something is downloaded\n",
    "        if str(result) ==\"ResultTuple(downloaded={}, retrieval_triggered={}, failed={})\":\n",
    "            raise ValueError('Nothing was dowloaded')\n",
    "\n",
    "    except:\n",
    "        print(\"#--------Except---------------------------------------\")\n",
    "        sat_name ='S2B_'\n",
    "        \n",
    "        # Find and query image\n",
    "        filename1 = sat_name+rest_name+safe_name\n",
    "        # print(filename1)\n",
    "        \n",
    "        query1 = api.query(filename = filename1)\n",
    "        # # print(query1)\n",
    "        \n",
    "        # download information\n",
    "        api.download_all(query1)\n",
    "        result = api.download_all(query1)\n",
    "\n",
    "    # print(result)\n",
    "# \n",
    "# print(search_string(\"S2B_MSIL2A_20210719T190919_N0301_R056_T10TER_20210719T215339\"))"
   ]
  },
  {
   "cell_type": "markdown",
   "id": "f63d211d-1644-4642-82a4-60a80629fcdb",
   "metadata": {
    "tags": []
   },
   "source": [
    "# Main function"
   ]
  },
  {
   "cell_type": "code",
   "execution_count": 12,
   "id": "6dd80170-09c3-4700-8ad7-26fce2c0c957",
   "metadata": {},
   "outputs": [],
   "source": [
    "# List of csvs in directory\n",
    "def main_sentinel_sat_downloader(directory):\n",
    "    basic_directory = directory\n",
    "    directory_lib = basic_directory+\"2_sentinel2_clear_sky_images\"\n",
    "    list_directory = directory1(directory_lib)\n",
    "    # print(list_directory)\n",
    "    df = pd.DataFrame()\n",
    "\n",
    "\n",
    "    # Looping through csvs\n",
    "    for counter0 in range(0,len(list_directory)): \n",
    "        # Clean lists of imgs in csv\n",
    "        newdf = list_splitter(directory_lib +\"/\"+list_directory[counter0],list_directory[counter0])\n",
    "        # print(newdf)\n",
    "\n",
    "        # Search every Image\n",
    "        for counter in range(0,len(newdf.index)): \n",
    "            if ~newdf.empty:\n",
    "\n",
    "                df = pd.concat([df, newdf])\n",
    "\n",
    "                # Run through process\n",
    "                # print(\"p\")\n",
    "\n",
    "                # name_stage0 = newdf['Images__clean'][counter]\n",
    "                # print(name_stage0)\n",
    "\n",
    "                # Finds real name of img\n",
    "                # name_stage1 = real_name(name_stage0)\n",
    "\n",
    "                # search and download img\n",
    "                # search_string(name_stage1)\n",
    "                # # print(name_stage1)\n",
    "\n",
    "\n",
    "    #get id of duplicate and reset index\n",
    "    df = df.drop_duplicates()\n",
    "    df = df.reset_index()\n",
    "    df[\"true_name\"] = df[\"Images__clean\"].apply(real_name)\n",
    "    # print(df)\n",
    "    df.head()\n",
    "    df.to_csv(basic_directory + \"/3_images_clean/images_clean.csv\")\n",
    "\n",
    "    # #loop for finding\n",
    "    # for counter in range(0,len(df.index)):\n",
    "    #     name_stage0 = df['Images__clean'][counter]\n",
    "        #print(df['Images__clean'][counter])\n",
    "\n",
    "    #     # Finds real name of img\n",
    "    #     name_stage1 = real_name(name_stage0)\n",
    "\n",
    "    #     # search and download img\n",
    "    #     search_string(name_stage1)\n",
    "    #     # # print(name_stage1)\n",
    "\n"
   ]
  },
  {
   "cell_type": "code",
   "execution_count": null,
   "id": "acc82f4e-9319-46ed-b3b4-8c8f16957765",
   "metadata": {},
   "outputs": [
    {
     "name": "stdout",
     "output_type": "stream",
     "text": [
      "______________________________________________\n",
      "______________________________________________\n",
      "______________________________________________\n",
      "______________________________________________\n",
      "______________________________________________\n",
      "______________________________________________\n",
      "______________________________________________\n",
      "______________________________________________\n",
      "______________________________________________\n",
      "______________________________________________\n",
      "______________________________________________\n",
      "______________________________________________\n",
      "______________________________________________\n"
     ]
    }
   ],
   "source": [
    "main_sentinel_sat_downloader( \"C:/Users/nkalimip/Downloads/downloading_process/\")"
   ]
  },
  {
   "cell_type": "code",
   "execution_count": null,
   "id": "091e22aa-0d54-4499-a7f5-8c71d3a541fb",
   "metadata": {},
   "outputs": [],
   "source": []
  }
 ],
 "metadata": {
  "kernelspec": {
   "display_name": "Python 3 (ipykernel)",
   "language": "python",
   "name": "python3"
  },
  "language_info": {
   "codemirror_mode": {
    "name": "ipython",
    "version": 3
   },
   "file_extension": ".py",
   "mimetype": "text/x-python",
   "name": "python",
   "nbconvert_exporter": "python",
   "pygments_lexer": "ipython3",
   "version": "3.10.9"
  }
 },
 "nbformat": 4,
 "nbformat_minor": 5
}
