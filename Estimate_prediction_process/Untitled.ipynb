{
 "cells": [
  {
   "cell_type": "markdown",
   "id": "b32333df-827f-47d4-acc2-03982d78f17b",
   "metadata": {},
   "source": [
    "#  Modelling Uncertainity Part 4 "
   ]
  },
  {
   "cell_type": "code",
   "execution_count": null,
   "id": "01b1ef85-24dc-4bab-9ba3-61fc285e9843",
   "metadata": {},
   "outputs": [],
   "source": []
  }
 ],
 "metadata": {
  "kernelspec": {
   "display_name": "Python 3 (ipykernel)",
   "language": "python",
   "name": "python3"
  },
  "language_info": {
   "codemirror_mode": {
    "name": "ipython",
    "version": 3
   },
   "file_extension": ".py",
   "mimetype": "text/x-python",
   "name": "python",
   "nbconvert_exporter": "python",
   "pygments_lexer": "ipython3",
   "version": "3.10.10"
  }
 },
 "nbformat": 4,
 "nbformat_minor": 5
}
