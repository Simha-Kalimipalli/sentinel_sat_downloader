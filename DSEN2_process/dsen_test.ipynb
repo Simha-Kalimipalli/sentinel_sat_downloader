{
 "cells": [
  {
   "cell_type": "code",
   "execution_count": 1,
   "id": "6004262b-6239-4668-9626-f495d21524c7",
   "metadata": {},
   "outputs": [
    {
     "name": "stdout",
     "output_type": "stream",
     "text": [
      "C:\\Users\\nkalimip\\Downloads\\DSen2-master\\DSen2-master\\testing\n"
     ]
    }
   ],
   "source": [
    "%cd C:\\Users\\nkalimip\\Downloads\\DSen2-master\\DSen2-master\\testing"
   ]
  },
  {
   "cell_type": "code",
   "execution_count": 2,
   "id": "ec813b3c-c9d9-4033-8ba1-0020799fd5f8",
   "metadata": {},
   "outputs": [],
   "source": [
    "%matplotlib inline"
   ]
  },
  {
   "cell_type": "code",
   "execution_count": 3,
   "id": "e94e6c82-29f1-4e33-844c-fa929b44dbeb",
   "metadata": {},
   "outputs": [],
   "source": [
    "from osgeo import gdal, osr\n",
    "import tensorflow"
   ]
  },
  {
   "cell_type": "code",
   "execution_count": 5,
   "id": "75d737f7-9ef1-450f-9262-bbf9ad889249",
   "metadata": {},
   "outputs": [
    {
     "name": "stdout",
     "output_type": "stream",
     "text": [
      "2.10.1\n",
      "Num GPUs Available:  1\n"
     ]
    }
   ],
   "source": [
    "import tensorflow as tf\n",
    "print(tf.__version__)\n",
    "print(\"Num GPUs Available: \", len(tf.config.experimental.list_physical_devices('GPU')))\n"
   ]
  },
  {
   "cell_type": "code",
   "execution_count": 7,
   "id": "25cb6b5e-6dcb-43ed-84ec-d168550c0434",
   "metadata": {},
   "outputs": [
    {
     "ename": "ModuleNotFoundError",
     "evalue": "No module named '_gdal'",
     "output_type": "error",
     "traceback": [
      "\u001b[1;31m---------------------------------------------------------------------------\u001b[0m",
      "\u001b[1;31mImportError\u001b[0m                               Traceback (most recent call last)",
      "\u001b[1;32m~\\Anaconda3\\envs\\new_env2\\lib\\site-packages\\osgeo\\__init__.py\u001b[0m in \u001b[0;36mswig_import_helper\u001b[1;34m()\u001b[0m\n\u001b[0;32m     28\u001b[0m     \u001b[1;32mtry\u001b[0m\u001b[1;33m:\u001b[0m\u001b[1;33m\u001b[0m\u001b[1;33m\u001b[0m\u001b[0m\n\u001b[1;32m---> 29\u001b[1;33m         \u001b[1;32mreturn\u001b[0m \u001b[0mimportlib\u001b[0m\u001b[1;33m.\u001b[0m\u001b[0mimport_module\u001b[0m\u001b[1;33m(\u001b[0m\u001b[0mmname\u001b[0m\u001b[1;33m)\u001b[0m\u001b[1;33m\u001b[0m\u001b[1;33m\u001b[0m\u001b[0m\n\u001b[0m\u001b[0;32m     30\u001b[0m     \u001b[1;32mexcept\u001b[0m \u001b[0mImportError\u001b[0m\u001b[1;33m:\u001b[0m\u001b[1;33m\u001b[0m\u001b[1;33m\u001b[0m\u001b[0m\n",
      "\u001b[1;32m~\\Anaconda3\\envs\\new_env2\\lib\\importlib\\__init__.py\u001b[0m in \u001b[0;36mimport_module\u001b[1;34m(name, package)\u001b[0m\n\u001b[0;32m    126\u001b[0m             \u001b[0mlevel\u001b[0m \u001b[1;33m+=\u001b[0m \u001b[1;36m1\u001b[0m\u001b[1;33m\u001b[0m\u001b[1;33m\u001b[0m\u001b[0m\n\u001b[1;32m--> 127\u001b[1;33m     \u001b[1;32mreturn\u001b[0m \u001b[0m_bootstrap\u001b[0m\u001b[1;33m.\u001b[0m\u001b[0m_gcd_import\u001b[0m\u001b[1;33m(\u001b[0m\u001b[0mname\u001b[0m\u001b[1;33m[\u001b[0m\u001b[0mlevel\u001b[0m\u001b[1;33m:\u001b[0m\u001b[1;33m]\u001b[0m\u001b[1;33m,\u001b[0m \u001b[0mpackage\u001b[0m\u001b[1;33m,\u001b[0m \u001b[0mlevel\u001b[0m\u001b[1;33m)\u001b[0m\u001b[1;33m\u001b[0m\u001b[1;33m\u001b[0m\u001b[0m\n\u001b[0m\u001b[0;32m    128\u001b[0m \u001b[1;33m\u001b[0m\u001b[0m\n",
      "\u001b[1;32m~\\Anaconda3\\envs\\new_env2\\lib\\importlib\\_bootstrap.py\u001b[0m in \u001b[0;36m_gcd_import\u001b[1;34m(name, package, level)\u001b[0m\n",
      "\u001b[1;32m~\\Anaconda3\\envs\\new_env2\\lib\\importlib\\_bootstrap.py\u001b[0m in \u001b[0;36m_find_and_load\u001b[1;34m(name, import_)\u001b[0m\n",
      "\u001b[1;32m~\\Anaconda3\\envs\\new_env2\\lib\\importlib\\_bootstrap.py\u001b[0m in \u001b[0;36m_find_and_load_unlocked\u001b[1;34m(name, import_)\u001b[0m\n",
      "\u001b[1;32m~\\Anaconda3\\envs\\new_env2\\lib\\importlib\\_bootstrap.py\u001b[0m in \u001b[0;36m_load_unlocked\u001b[1;34m(spec)\u001b[0m\n",
      "\u001b[1;32m~\\Anaconda3\\envs\\new_env2\\lib\\importlib\\_bootstrap.py\u001b[0m in \u001b[0;36mmodule_from_spec\u001b[1;34m(spec)\u001b[0m\n",
      "\u001b[1;32m~\\Anaconda3\\envs\\new_env2\\lib\\importlib\\_bootstrap_external.py\u001b[0m in \u001b[0;36mcreate_module\u001b[1;34m(self, spec)\u001b[0m\n",
      "\u001b[1;32m~\\Anaconda3\\envs\\new_env2\\lib\\importlib\\_bootstrap.py\u001b[0m in \u001b[0;36m_call_with_frames_removed\u001b[1;34m(f, *args, **kwds)\u001b[0m\n",
      "\u001b[1;31mImportError\u001b[0m: DLL load failed: The specified module could not be found.",
      "\nDuring handling of the above exception, another exception occurred:\n",
      "\u001b[1;31mModuleNotFoundError\u001b[0m                       Traceback (most recent call last)",
      "\u001b[1;32m~\\Downloads\\DSen2-master\\DSen2-master\\testing\\s2_tiles_supres.py\u001b[0m in \u001b[0;36m<module>\u001b[1;34m\u001b[0m\n\u001b[0;32m      5\u001b[0m \u001b[1;32mimport\u001b[0m \u001b[0mre\u001b[0m\u001b[1;33m\u001b[0m\u001b[1;33m\u001b[0m\u001b[0m\n\u001b[0;32m      6\u001b[0m \u001b[1;32mimport\u001b[0m \u001b[0msys\u001b[0m\u001b[1;33m\u001b[0m\u001b[1;33m\u001b[0m\u001b[0m\n\u001b[1;32m----> 7\u001b[1;33m \u001b[1;32mfrom\u001b[0m \u001b[0mosgeo\u001b[0m \u001b[1;32mimport\u001b[0m \u001b[0mgdal\u001b[0m\u001b[1;33m,\u001b[0m \u001b[0mosr\u001b[0m\u001b[1;33m\u001b[0m\u001b[1;33m\u001b[0m\u001b[0m\n\u001b[0m\u001b[0;32m      8\u001b[0m \u001b[1;32mfrom\u001b[0m \u001b[0mcollections\u001b[0m \u001b[1;32mimport\u001b[0m \u001b[0mdefaultdict\u001b[0m\u001b[1;33m\u001b[0m\u001b[1;33m\u001b[0m\u001b[0m\n\u001b[0;32m      9\u001b[0m \u001b[1;32mfrom\u001b[0m \u001b[0msupres\u001b[0m \u001b[1;32mimport\u001b[0m \u001b[0mDSen2_20\u001b[0m\u001b[1;33m,\u001b[0m \u001b[0mDSen2_60\u001b[0m\u001b[1;33m\u001b[0m\u001b[1;33m\u001b[0m\u001b[0m\n",
      "\u001b[1;32m~\\Anaconda3\\envs\\new_env2\\lib\\site-packages\\osgeo\\__init__.py\u001b[0m in \u001b[0;36m<module>\u001b[1;34m\u001b[0m\n\u001b[0;32m     43\u001b[0m \u001b[1;33m\u001b[0m\u001b[0m\n\u001b[0;32m     44\u001b[0m \u001b[1;33m\u001b[0m\u001b[0m\n\u001b[1;32m---> 45\u001b[1;33m \u001b[0m_gdal\u001b[0m \u001b[1;33m=\u001b[0m \u001b[0mswig_import_helper\u001b[0m\u001b[1;33m(\u001b[0m\u001b[1;33m)\u001b[0m\u001b[1;33m\u001b[0m\u001b[1;33m\u001b[0m\u001b[0m\n\u001b[0m\u001b[0;32m     46\u001b[0m \u001b[1;32mdel\u001b[0m \u001b[0mswig_import_helper\u001b[0m\u001b[1;33m\u001b[0m\u001b[1;33m\u001b[0m\u001b[0m\n\u001b[0;32m     47\u001b[0m \u001b[1;33m\u001b[0m\u001b[0m\n",
      "\u001b[1;32m~\\Anaconda3\\envs\\new_env2\\lib\\site-packages\\osgeo\\__init__.py\u001b[0m in \u001b[0;36mswig_import_helper\u001b[1;34m()\u001b[0m\n\u001b[0;32m     40\u001b[0m                 \u001b[0mtraceback_string\u001b[0m \u001b[1;33m=\u001b[0m \u001b[1;34m''\u001b[0m\u001b[1;33m.\u001b[0m\u001b[0mjoin\u001b[0m\u001b[1;33m(\u001b[0m\u001b[0mtraceback\u001b[0m\u001b[1;33m.\u001b[0m\u001b[0mformat_exception\u001b[0m\u001b[1;33m(\u001b[0m\u001b[1;33m*\u001b[0m\u001b[0msys\u001b[0m\u001b[1;33m.\u001b[0m\u001b[0mexc_info\u001b[0m\u001b[1;33m(\u001b[0m\u001b[1;33m)\u001b[0m\u001b[1;33m)\u001b[0m\u001b[1;33m)\u001b[0m\u001b[1;33m\u001b[0m\u001b[1;33m\u001b[0m\u001b[0m\n\u001b[0;32m     41\u001b[0m                 \u001b[1;32mraise\u001b[0m \u001b[0mImportError\u001b[0m\u001b[1;33m(\u001b[0m\u001b[0mtraceback_string\u001b[0m \u001b[1;33m+\u001b[0m \u001b[1;34m'\\n'\u001b[0m \u001b[1;33m+\u001b[0m \u001b[0mmsg\u001b[0m\u001b[1;33m)\u001b[0m\u001b[1;33m\u001b[0m\u001b[1;33m\u001b[0m\u001b[0m\n\u001b[1;32m---> 42\u001b[1;33m         \u001b[1;32mreturn\u001b[0m \u001b[0mimportlib\u001b[0m\u001b[1;33m.\u001b[0m\u001b[0mimport_module\u001b[0m\u001b[1;33m(\u001b[0m\u001b[1;34m'_gdal'\u001b[0m\u001b[1;33m)\u001b[0m\u001b[1;33m\u001b[0m\u001b[1;33m\u001b[0m\u001b[0m\n\u001b[0m\u001b[0;32m     43\u001b[0m \u001b[1;33m\u001b[0m\u001b[0m\n\u001b[0;32m     44\u001b[0m \u001b[1;33m\u001b[0m\u001b[0m\n",
      "\u001b[1;32m~\\Anaconda3\\envs\\new_env2\\lib\\importlib\\__init__.py\u001b[0m in \u001b[0;36mimport_module\u001b[1;34m(name, package)\u001b[0m\n\u001b[0;32m    125\u001b[0m                 \u001b[1;32mbreak\u001b[0m\u001b[1;33m\u001b[0m\u001b[1;33m\u001b[0m\u001b[0m\n\u001b[0;32m    126\u001b[0m             \u001b[0mlevel\u001b[0m \u001b[1;33m+=\u001b[0m \u001b[1;36m1\u001b[0m\u001b[1;33m\u001b[0m\u001b[1;33m\u001b[0m\u001b[0m\n\u001b[1;32m--> 127\u001b[1;33m     \u001b[1;32mreturn\u001b[0m \u001b[0m_bootstrap\u001b[0m\u001b[1;33m.\u001b[0m\u001b[0m_gcd_import\u001b[0m\u001b[1;33m(\u001b[0m\u001b[0mname\u001b[0m\u001b[1;33m[\u001b[0m\u001b[0mlevel\u001b[0m\u001b[1;33m:\u001b[0m\u001b[1;33m]\u001b[0m\u001b[1;33m,\u001b[0m \u001b[0mpackage\u001b[0m\u001b[1;33m,\u001b[0m \u001b[0mlevel\u001b[0m\u001b[1;33m)\u001b[0m\u001b[1;33m\u001b[0m\u001b[1;33m\u001b[0m\u001b[0m\n\u001b[0m\u001b[0;32m    128\u001b[0m \u001b[1;33m\u001b[0m\u001b[0m\n\u001b[0;32m    129\u001b[0m \u001b[1;33m\u001b[0m\u001b[0m\n",
      "\u001b[1;31mModuleNotFoundError\u001b[0m: No module named '_gdal'"
     ]
    }
   ],
   "source": [
    "# import os\n",
    "# os.system('dir c:\\\\')\n",
    "\n",
    "\n",
    "# helloo = \"C:/Users/nkalimip/Downloads/\"\n",
    "%run s2_tiles_supres.py C:/Users/nkalimip/Downloads/S2B_MSIL1C_20220731T185919_N0400_R013_T10TES_20220731T211239/S2B_MSIL1C_20220731T185919_N0400_R013_T10TES_20220731T211239.SAFE/MTD_MSIL1C.xml C:/Users/nkalimip/Downloads/output_file1c.tif --roi_x_y \"100,100,2000,2000\"\n",
    "# eval(helloo)\n",
    "input1 = \"C:/Users/nkalimip/Downloads/S2B_MSIL1C_20220731T185919_N0400_R013_T10TES_20220731T211239/S2B_MSIL1C_20220731T185919_N0400_R013_T10TES_20220731T211239.SAFE/MTD_MSIL1C.xml\"\n",
    "input2 = \"C:/Users/nkalimip/Downloads/output_file1c.tif\"\n",
    "%run s2_tiles_supres.py eval(input1) eval(input2) --roi_x_y \"100,100,2000,2000\""
   ]
  },
  {
   "cell_type": "code",
   "execution_count": 10,
   "id": "c0cbcfee-763c-4d4f-af19-2dcbe48fe3cd",
   "metadata": {},
   "outputs": [],
   "source": []
  },
  {
   "cell_type": "code",
   "execution_count": 11,
   "id": "5ec087be-4c91-48de-8ab7-6af096c88585",
   "metadata": {},
   "outputs": [
    {
     "data": {
      "text/plain": [
       "['S2A_MSIL2A_20190606T165901_N0212_R069_T15TYL_20190606T212006',\n",
       " 'S2A_MSIL2A_20190606T165901_N0212_R069_T15TYM_20190606T212006',\n",
       " 'S2A_MSIL2A_20190606T165901_N0212_R069_T16TCS_20190606T212006',\n",
       " 'S2A_MSIL2A_20200713T170901_N0214_R112_T14SQJ_20200713T213310',\n",
       " 'S2A_MSIL2A_20200713T170901_N0214_R112_T15STD_20200713T213310',\n",
       " 'S2A_MSIL2A_20200806T164901_N0214_R026_T15TYM_20200806T211742',\n",
       " 'S2A_MSIL2A_20200806T164901_N0214_R026_T16TCS_20200806T211742',\n",
       " 'S2A_MSIL2A_20210724T190921_N0301_R056_T10TER_20210724T233407',\n",
       " 'S2A_MSIL2A_20210826T173911_N0301_R098_T13SCS_20210826T234856',\n",
       " 'S2B_MSIL2A_20190608T164849_N0212_R026_T15TYL_20190608T212115',\n",
       " 'S2B_MSIL2A_20190822T173909_N0213_R098_T13SCS_20190822T220238',\n",
       " 'S2B_MSIL2A_20190825T174909_N0213_R141_T13SCS_20190825T214149',\n",
       " 'S2B_MSIL2A_20190826T153819_N0213_R011_T18TYN_20190826T195901',\n",
       " 'S2B_MSIL2A_20200627T173909_N0214_R098_T13TGM_20200627T213600',\n",
       " 'S2B_MSIL2A_20200627T173909_N0214_R098_T14TLS_20200627T213600',\n",
       " 'S2B_MSIL2A_20210401T183919_N0300_R070_T10SGG_20210401T224235',\n",
       " 'S2B_MSIL2A_20210401T183919_N0300_R070_T11SKB_20210401T224235',\n",
       " 'S2B_MSIL2A_20210422T162829_N0300_R083_T16SCA_20210422T204151',\n",
       " 'S2B_MSIL2A_20210612T173909_N0300_R098_T13TGM_20210612T215521',\n",
       " 'S2B_MSIL2A_20210612T173909_N0300_R098_T14TLS_20210612T215521',\n",
       " 'S2B_MSIL2A_20210716T185919_N0301_R013_T10TER_20210716T214658',\n",
       " 'S2B_MSIL2A_20210719T190919_N0301_R056_T10TER_20210719T215339',\n",
       " 'S2B_MSIL2A_20210808T154809_N0301_R054_T18SUJ_20210808T201351',\n",
       " 'S2B_MSIL2A_20210824T174909_N0301_R141_T13SCS_20210824T214914']"
      ]
     },
     "execution_count": 11,
     "metadata": {},
     "output_type": "execute_result"
    }
   ],
   "source": [
    "directory1(\"C:/Users/nkalimip/Downloads/DSEN2_process/Images_unzipped\")"
   ]
  },
  {
   "cell_type": "code",
   "execution_count": 7,
   "id": "0af6576f-c364-4714-a7d9-079c10c8ab60",
   "metadata": {},
   "outputs": [
    {
     "name": "stdout",
     "output_type": "stream",
     "text": [
      "SENTINEL2_L2A:C:/Users/nkalimip/Downloads/DSEN2_process/Images_unzipped/S2A_MSIL2A_20190606T165901_N0212_R069_T15TYL_20190606T212006/S2A_MSIL2A_20190606T165901_N0212_R069_T15TYL_20190606T212006.SAFE/MTD_MSIL2A.xml:10m:EPSG_32615\n",
      "SENTINEL2_L2A:C:/Users/nkalimip/Downloads/DSEN2_process/Images_unzipped/S2A_MSIL2A_20190606T165901_N0212_R069_T15TYL_20190606T212006/S2A_MSIL2A_20190606T165901_N0212_R069_T15TYL_20190606T212006.SAFE/MTD_MSIL2A.xml:20m:EPSG_32615\n",
      "SENTINEL2_L2A:C:/Users/nkalimip/Downloads/DSEN2_process/Images_unzipped/S2A_MSIL2A_20190606T165901_N0212_R069_T15TYL_20190606T212006/S2A_MSIL2A_20190606T165901_N0212_R069_T15TYL_20190606T212006.SAFE/MTD_MSIL2A.xml:60m:EPSG_32615\n",
      "SENTINEL2_L2A:C:/Users/nkalimip/Downloads/DSEN2_process/Images_unzipped/S2A_MSIL2A_20190606T165901_N0212_R069_T15TYL_20190606T212006/S2A_MSIL2A_20190606T165901_N0212_R069_T15TYL_20190606T212006.SAFE/MTD_MSIL2A.xml:TCI:EPSG_32615\n",
      "Selected UTM Zone: UTM 15N\n",
      "Selected pixel region: xmin=6456, ymin=4878, xmax=6797, ymax=6383:\n",
      "Image size: width=342 x height=1506\n",
      "Selected 10m bands: B4 B3 B2 B8\n",
      "Selected 20m bands: B5 B6 B7 B8A B11 B12\n",
      "Selected 60m bands:\n",
      "Loading selected data from: Bands B2, B3, B4, B8 with 10m resolution, UTM 15N\n",
      "Loading selected data from: Bands B5, B6, B7, B8A, B11, B12, AOT, CLD, SCL, SNW, WVP with 20m resolution, UTM 15N\n",
      "Super-resolving the 20m data into 10m bands\n",
      "Symbolic Model Created.\n",
      "Predicting using file: ../models/s2_032_lr_1e-04.hdf5\n",
      "2/2 [==============================] - 8s 1s/step\n",
      "(6, 1506, 342)\n",
      "Writing the super-resolved bands in C:/Users/nkalimip/Downloads/DSEN2_process/Images_DSEN2/S2A_MSIL2A_20190606T165901_N0212_R069_T15TYL_20190606T212006.tif\n",
      "SRB5 (705 nm)\n",
      "SRB6 (740 nm)\n",
      "SRB7 (783 nm)\n",
      "SRB8A (865 nm)\n",
      "SRB11 (1610 nm)\n",
      "SRB12 (2190 nm)\n"
     ]
    }
   ],
   "source": [
    "%run s2_tiles_supres.py C:/Users/nkalimip/Downloads/DSEN2_process/Images_unzipped/S2A_MSIL2A_20190606T165901_N0212_R069_T15TYL_20190606T212006/S2A_MSIL2A_20190606T165901_N0212_R069_T15TYL_20190606T212006.SAFE/MTD_MSIL2A.xml  C:/Users/nkalimip/Downloads/DSEN2_process/Images_DSEN2/S2A_MSIL2A_20190606T165901_N0212_R069_T15TYL_20190606T212006.tif --roi_x_y \"6460,4883,6800,6385\""
   ]
  },
  {
   "cell_type": "code",
   "execution_count": 30,
   "id": "a6398443-d1c4-4c2c-8107-e4e595896e7a",
   "metadata": {},
   "outputs": [
    {
     "name": "stdout",
     "output_type": "stream",
     "text": [
      "SENTINEL2_L2A:C:/Users/nkalimip/Downloads/DSEN2_process/Images_unzipped/S2A_MSIL2A_20190606T165901_N0212_R069_T15TYL_20190606T212006/S2A_MSIL2A_20190606T165901_N0212_R069_T15TYL_20190606T212006.SAFE/MTD_MSIL2A.xml:10m:EPSG_32615\n",
      "SENTINEL2_L2A:C:/Users/nkalimip/Downloads/DSEN2_process/Images_unzipped/S2A_MSIL2A_20190606T165901_N0212_R069_T15TYL_20190606T212006/S2A_MSIL2A_20190606T165901_N0212_R069_T15TYL_20190606T212006.SAFE/MTD_MSIL2A.xml:20m:EPSG_32615\n",
      "SENTINEL2_L2A:C:/Users/nkalimip/Downloads/DSEN2_process/Images_unzipped/S2A_MSIL2A_20190606T165901_N0212_R069_T15TYL_20190606T212006/S2A_MSIL2A_20190606T165901_N0212_R069_T15TYL_20190606T212006.SAFE/MTD_MSIL2A.xml:60m:EPSG_32615\n",
      "SENTINEL2_L2A:C:/Users/nkalimip/Downloads/DSEN2_process/Images_unzipped/S2A_MSIL2A_20190606T165901_N0212_R069_T15TYL_20190606T212006/S2A_MSIL2A_20190606T165901_N0212_R069_T15TYL_20190606T212006.SAFE/MTD_MSIL2A.xml:TCI:EPSG_32615\n",
      "Selected UTM Zone: UTM 15N\n",
      "Selected pixel region: xmin=96, ymin=96, xmax=1997, ymax=1997:\n",
      "Image size: width=1902 x height=1902\n",
      "Selected 10m bands: B4 B3 B2 B8\n",
      "Selected 20m bands: B5 B6 B7 B8A B11 B12\n",
      "Selected 60m bands:\n",
      "Loading selected data from: Bands B2, B3, B4, B8 with 10m resolution, UTM 15N\n",
      "Loading selected data from: Bands B5, B6, B7, B8A, B11, B12, AOT, CLD, SCL, SNW, WVP with 20m resolution, UTM 15N\n",
      "Super-resolving the 20m data into 10m bands\n"
     ]
    },
    {
     "ename": "AttributeError",
     "evalue": "'Node' object has no attribute 'output_masks'",
     "output_type": "error",
     "traceback": [
      "\u001b[1;31m---------------------------------------------------------------------------\u001b[0m",
      "\u001b[1;31mAttributeError\u001b[0m                            Traceback (most recent call last)",
      "\u001b[1;32m~\\Downloads\\DSen2-master\\DSen2-master\\testing\\s2_tiles_supres.py\u001b[0m in \u001b[0;36m<module>\u001b[1;34m\u001b[0m\n\u001b[0;32m    341\u001b[0m \u001b[1;32mif\u001b[0m \u001b[0mvalidated_10m_bands\u001b[0m \u001b[1;32mand\u001b[0m \u001b[0mvalidated_20m_bands\u001b[0m\u001b[1;33m:\u001b[0m\u001b[1;33m\u001b[0m\u001b[1;33m\u001b[0m\u001b[0m\n\u001b[0;32m    342\u001b[0m     \u001b[0mprint\u001b[0m\u001b[1;33m(\u001b[0m\u001b[1;34m\"Super-resolving the 20m data into 10m bands\"\u001b[0m\u001b[1;33m)\u001b[0m\u001b[1;33m\u001b[0m\u001b[1;33m\u001b[0m\u001b[0m\n\u001b[1;32m--> 343\u001b[1;33m     \u001b[0msr20\u001b[0m \u001b[1;33m=\u001b[0m \u001b[0mDSen2_20\u001b[0m\u001b[1;33m(\u001b[0m\u001b[0mdata10\u001b[0m\u001b[1;33m,\u001b[0m \u001b[0mdata20\u001b[0m\u001b[1;33m,\u001b[0m \u001b[0mdeep\u001b[0m\u001b[1;33m=\u001b[0m\u001b[1;32mFalse\u001b[0m\u001b[1;33m)\u001b[0m\u001b[1;33m\u001b[0m\u001b[1;33m\u001b[0m\u001b[0m\n\u001b[0m\u001b[0;32m    344\u001b[0m \u001b[1;32melse\u001b[0m\u001b[1;33m:\u001b[0m\u001b[1;33m\u001b[0m\u001b[1;33m\u001b[0m\u001b[0m\n\u001b[0;32m    345\u001b[0m     \u001b[0msr20\u001b[0m \u001b[1;33m=\u001b[0m \u001b[1;32mNone\u001b[0m\u001b[1;33m\u001b[0m\u001b[1;33m\u001b[0m\u001b[0m\n",
      "\u001b[1;32m~\\Downloads\\DSen2-master\\DSen2-master\\testing\\supres.py\u001b[0m in \u001b[0;36mDSen2_20\u001b[1;34m(d10, d20, deep)\u001b[0m\n\u001b[0;32m     25\u001b[0m     \u001b[0mtest\u001b[0m \u001b[1;33m=\u001b[0m \u001b[1;33m[\u001b[0m\u001b[0mp10\u001b[0m\u001b[1;33m,\u001b[0m \u001b[0mp20\u001b[0m\u001b[1;33m]\u001b[0m\u001b[1;33m\u001b[0m\u001b[1;33m\u001b[0m\u001b[0m\n\u001b[0;32m     26\u001b[0m     \u001b[0minput_shape\u001b[0m \u001b[1;33m=\u001b[0m \u001b[1;33m(\u001b[0m\u001b[1;33m(\u001b[0m\u001b[1;36m4\u001b[0m\u001b[1;33m,\u001b[0m \u001b[1;32mNone\u001b[0m\u001b[1;33m,\u001b[0m \u001b[1;32mNone\u001b[0m\u001b[1;33m)\u001b[0m\u001b[1;33m,\u001b[0m \u001b[1;33m(\u001b[0m\u001b[1;36m6\u001b[0m\u001b[1;33m,\u001b[0m \u001b[1;32mNone\u001b[0m\u001b[1;33m,\u001b[0m \u001b[1;32mNone\u001b[0m\u001b[1;33m)\u001b[0m\u001b[1;33m)\u001b[0m\u001b[1;33m\u001b[0m\u001b[1;33m\u001b[0m\u001b[0m\n\u001b[1;32m---> 27\u001b[1;33m     \u001b[0mprediction\u001b[0m \u001b[1;33m=\u001b[0m \u001b[0m_predict\u001b[0m\u001b[1;33m(\u001b[0m\u001b[0mtest\u001b[0m\u001b[1;33m,\u001b[0m \u001b[0minput_shape\u001b[0m\u001b[1;33m,\u001b[0m \u001b[0mdeep\u001b[0m\u001b[1;33m=\u001b[0m\u001b[0mdeep\u001b[0m\u001b[1;33m)\u001b[0m\u001b[1;33m\u001b[0m\u001b[1;33m\u001b[0m\u001b[0m\n\u001b[0m\u001b[0;32m     28\u001b[0m     \u001b[0mimages\u001b[0m \u001b[1;33m=\u001b[0m \u001b[0mrecompose_images\u001b[0m\u001b[1;33m(\u001b[0m\u001b[0mprediction\u001b[0m\u001b[1;33m,\u001b[0m \u001b[0mborder\u001b[0m\u001b[1;33m=\u001b[0m\u001b[0mborder\u001b[0m\u001b[1;33m,\u001b[0m \u001b[0msize\u001b[0m\u001b[1;33m=\u001b[0m\u001b[0md10\u001b[0m\u001b[1;33m.\u001b[0m\u001b[0mshape\u001b[0m\u001b[1;33m)\u001b[0m\u001b[1;33m\u001b[0m\u001b[1;33m\u001b[0m\u001b[0m\n\u001b[0;32m     29\u001b[0m     \u001b[0mimages\u001b[0m \u001b[1;33m*=\u001b[0m \u001b[0mSCALE\u001b[0m\u001b[1;33m\u001b[0m\u001b[1;33m\u001b[0m\u001b[0m\n",
      "\u001b[1;32m~\\Downloads\\DSen2-master\\DSen2-master\\testing\\supres.py\u001b[0m in \u001b[0;36m_predict\u001b[1;34m(test, input_shape, deep, run_60)\u001b[0m\n\u001b[0;32m     57\u001b[0m         \u001b[0mpredict_file\u001b[0m \u001b[1;33m=\u001b[0m \u001b[0mMDL_PATH\u001b[0m\u001b[1;33m+\u001b[0m\u001b[1;34m's2_034_lr_1e-04.hdf5'\u001b[0m \u001b[1;32mif\u001b[0m \u001b[0mrun_60\u001b[0m \u001b[1;32melse\u001b[0m \u001b[0mMDL_PATH\u001b[0m\u001b[1;33m+\u001b[0m\u001b[1;34m's2_033_lr_1e-04.hdf5'\u001b[0m\u001b[1;33m\u001b[0m\u001b[1;33m\u001b[0m\u001b[0m\n\u001b[0;32m     58\u001b[0m     \u001b[1;32melse\u001b[0m\u001b[1;33m:\u001b[0m\u001b[1;33m\u001b[0m\u001b[1;33m\u001b[0m\u001b[0m\n\u001b[1;32m---> 59\u001b[1;33m         \u001b[0mmodel\u001b[0m \u001b[1;33m=\u001b[0m \u001b[0ms2model\u001b[0m\u001b[1;33m(\u001b[0m\u001b[0minput_shape\u001b[0m\u001b[1;33m,\u001b[0m \u001b[0mnum_layers\u001b[0m\u001b[1;33m=\u001b[0m\u001b[1;36m6\u001b[0m\u001b[1;33m,\u001b[0m \u001b[0mfeature_size\u001b[0m\u001b[1;33m=\u001b[0m\u001b[1;36m128\u001b[0m\u001b[1;33m)\u001b[0m\u001b[1;33m\u001b[0m\u001b[1;33m\u001b[0m\u001b[0m\n\u001b[0m\u001b[0;32m     60\u001b[0m         \u001b[0mpredict_file\u001b[0m \u001b[1;33m=\u001b[0m \u001b[0mMDL_PATH\u001b[0m\u001b[1;33m+\u001b[0m\u001b[1;34m's2_030_lr_1e-05.hdf5'\u001b[0m \u001b[1;32mif\u001b[0m \u001b[0mrun_60\u001b[0m \u001b[1;32melse\u001b[0m \u001b[0mMDL_PATH\u001b[0m\u001b[1;33m+\u001b[0m\u001b[1;34m's2_032_lr_1e-04.hdf5'\u001b[0m\u001b[1;33m\u001b[0m\u001b[1;33m\u001b[0m\u001b[0m\n\u001b[0;32m     61\u001b[0m     \u001b[0mprint\u001b[0m\u001b[1;33m(\u001b[0m\u001b[1;34m'Symbolic Model Created.'\u001b[0m\u001b[1;33m)\u001b[0m\u001b[1;33m\u001b[0m\u001b[1;33m\u001b[0m\u001b[0m\n",
      "\u001b[1;32m~\\Downloads\\DSen2-master\\DSen2-master\\utils\\DSen2Net.py\u001b[0m in \u001b[0;36ms2model\u001b[1;34m(input_shape, num_layers, feature_size)\u001b[0m\n\u001b[0;32m     25\u001b[0m         \u001b[0mx\u001b[0m \u001b[1;33m=\u001b[0m \u001b[0mConcatenate\u001b[0m\u001b[1;33m(\u001b[0m\u001b[0maxis\u001b[0m\u001b[1;33m=\u001b[0m\u001b[1;36m1\u001b[0m\u001b[1;33m)\u001b[0m\u001b[1;33m(\u001b[0m\u001b[1;33m[\u001b[0m\u001b[0minput10\u001b[0m\u001b[1;33m,\u001b[0m \u001b[0minput20\u001b[0m\u001b[1;33m,\u001b[0m \u001b[0minput60\u001b[0m\u001b[1;33m]\u001b[0m\u001b[1;33m)\u001b[0m\u001b[1;33m\u001b[0m\u001b[1;33m\u001b[0m\u001b[0m\n\u001b[0;32m     26\u001b[0m     \u001b[1;32melse\u001b[0m\u001b[1;33m:\u001b[0m\u001b[1;33m\u001b[0m\u001b[1;33m\u001b[0m\u001b[0m\n\u001b[1;32m---> 27\u001b[1;33m         \u001b[0mx\u001b[0m \u001b[1;33m=\u001b[0m \u001b[0mConcatenate\u001b[0m\u001b[1;33m(\u001b[0m\u001b[0maxis\u001b[0m\u001b[1;33m=\u001b[0m\u001b[1;36m1\u001b[0m\u001b[1;33m)\u001b[0m\u001b[1;33m(\u001b[0m\u001b[1;33m[\u001b[0m\u001b[0minput10\u001b[0m\u001b[1;33m,\u001b[0m \u001b[0minput20\u001b[0m\u001b[1;33m]\u001b[0m\u001b[1;33m)\u001b[0m\u001b[1;33m\u001b[0m\u001b[1;33m\u001b[0m\u001b[0m\n\u001b[0m\u001b[0;32m     28\u001b[0m \u001b[1;33m\u001b[0m\u001b[0m\n\u001b[0;32m     29\u001b[0m     \u001b[1;31m# Treat the concatenation\u001b[0m\u001b[1;33m\u001b[0m\u001b[1;33m\u001b[0m\u001b[1;33m\u001b[0m\u001b[0m\n",
      "\u001b[1;32m~\\Anaconda3\\envs\\test1\\lib\\site-packages\\keras\\backend\\tensorflow_backend.py\u001b[0m in \u001b[0;36msymbolic_fn_wrapper\u001b[1;34m(*args, **kwargs)\u001b[0m\n\u001b[0;32m     73\u001b[0m         \u001b[1;32mif\u001b[0m \u001b[0m_SYMBOLIC_SCOPE\u001b[0m\u001b[1;33m.\u001b[0m\u001b[0mvalue\u001b[0m\u001b[1;33m:\u001b[0m\u001b[1;33m\u001b[0m\u001b[1;33m\u001b[0m\u001b[0m\n\u001b[0;32m     74\u001b[0m             \u001b[1;32mwith\u001b[0m \u001b[0mget_graph\u001b[0m\u001b[1;33m(\u001b[0m\u001b[1;33m)\u001b[0m\u001b[1;33m.\u001b[0m\u001b[0mas_default\u001b[0m\u001b[1;33m(\u001b[0m\u001b[1;33m)\u001b[0m\u001b[1;33m:\u001b[0m\u001b[1;33m\u001b[0m\u001b[1;33m\u001b[0m\u001b[0m\n\u001b[1;32m---> 75\u001b[1;33m                 \u001b[1;32mreturn\u001b[0m \u001b[0mfunc\u001b[0m\u001b[1;33m(\u001b[0m\u001b[1;33m*\u001b[0m\u001b[0margs\u001b[0m\u001b[1;33m,\u001b[0m \u001b[1;33m**\u001b[0m\u001b[0mkwargs\u001b[0m\u001b[1;33m)\u001b[0m\u001b[1;33m\u001b[0m\u001b[1;33m\u001b[0m\u001b[0m\n\u001b[0m\u001b[0;32m     76\u001b[0m         \u001b[1;32melse\u001b[0m\u001b[1;33m:\u001b[0m\u001b[1;33m\u001b[0m\u001b[1;33m\u001b[0m\u001b[0m\n\u001b[0;32m     77\u001b[0m             \u001b[1;32mreturn\u001b[0m \u001b[0mfunc\u001b[0m\u001b[1;33m(\u001b[0m\u001b[1;33m*\u001b[0m\u001b[0margs\u001b[0m\u001b[1;33m,\u001b[0m \u001b[1;33m**\u001b[0m\u001b[0mkwargs\u001b[0m\u001b[1;33m)\u001b[0m\u001b[1;33m\u001b[0m\u001b[1;33m\u001b[0m\u001b[0m\n",
      "\u001b[1;32m~\\Anaconda3\\envs\\test1\\lib\\site-packages\\keras\\engine\\base_layer.py\u001b[0m in \u001b[0;36m__call__\u001b[1;34m(self, inputs, **kwargs)\u001b[0m\n\u001b[0;32m    473\u001b[0m \u001b[1;33m\u001b[0m\u001b[0m\n\u001b[0;32m    474\u001b[0m             \u001b[1;31m# Handle mask propagation.\u001b[0m\u001b[1;33m\u001b[0m\u001b[1;33m\u001b[0m\u001b[1;33m\u001b[0m\u001b[0m\n\u001b[1;32m--> 475\u001b[1;33m             \u001b[0mprevious_mask\u001b[0m \u001b[1;33m=\u001b[0m \u001b[0m_collect_previous_mask\u001b[0m\u001b[1;33m(\u001b[0m\u001b[0minputs\u001b[0m\u001b[1;33m)\u001b[0m\u001b[1;33m\u001b[0m\u001b[1;33m\u001b[0m\u001b[0m\n\u001b[0m\u001b[0;32m    476\u001b[0m             \u001b[0muser_kwargs\u001b[0m \u001b[1;33m=\u001b[0m \u001b[0mkwargs\u001b[0m\u001b[1;33m.\u001b[0m\u001b[0mcopy\u001b[0m\u001b[1;33m(\u001b[0m\u001b[1;33m)\u001b[0m\u001b[1;33m\u001b[0m\u001b[1;33m\u001b[0m\u001b[0m\n\u001b[0;32m    477\u001b[0m             \u001b[1;32mif\u001b[0m \u001b[1;32mnot\u001b[0m \u001b[0mis_all_none\u001b[0m\u001b[1;33m(\u001b[0m\u001b[0mprevious_mask\u001b[0m\u001b[1;33m)\u001b[0m\u001b[1;33m:\u001b[0m\u001b[1;33m\u001b[0m\u001b[1;33m\u001b[0m\u001b[0m\n",
      "\u001b[1;32m~\\Anaconda3\\envs\\test1\\lib\\site-packages\\keras\\engine\\base_layer.py\u001b[0m in \u001b[0;36m_collect_previous_mask\u001b[1;34m(input_tensors)\u001b[0m\n\u001b[0;32m   1439\u001b[0m             \u001b[0minbound_layer\u001b[0m\u001b[1;33m,\u001b[0m \u001b[0mnode_index\u001b[0m\u001b[1;33m,\u001b[0m \u001b[0mtensor_index\u001b[0m \u001b[1;33m=\u001b[0m \u001b[0mx\u001b[0m\u001b[1;33m.\u001b[0m\u001b[0m_keras_history\u001b[0m\u001b[1;33m\u001b[0m\u001b[1;33m\u001b[0m\u001b[0m\n\u001b[0;32m   1440\u001b[0m             \u001b[0mnode\u001b[0m \u001b[1;33m=\u001b[0m \u001b[0minbound_layer\u001b[0m\u001b[1;33m.\u001b[0m\u001b[0m_inbound_nodes\u001b[0m\u001b[1;33m[\u001b[0m\u001b[0mnode_index\u001b[0m\u001b[1;33m]\u001b[0m\u001b[1;33m\u001b[0m\u001b[1;33m\u001b[0m\u001b[0m\n\u001b[1;32m-> 1441\u001b[1;33m             \u001b[0mmask\u001b[0m \u001b[1;33m=\u001b[0m \u001b[0mnode\u001b[0m\u001b[1;33m.\u001b[0m\u001b[0moutput_masks\u001b[0m\u001b[1;33m[\u001b[0m\u001b[0mtensor_index\u001b[0m\u001b[1;33m]\u001b[0m\u001b[1;33m\u001b[0m\u001b[1;33m\u001b[0m\u001b[0m\n\u001b[0m\u001b[0;32m   1442\u001b[0m             \u001b[0mmasks\u001b[0m\u001b[1;33m.\u001b[0m\u001b[0mappend\u001b[0m\u001b[1;33m(\u001b[0m\u001b[0mmask\u001b[0m\u001b[1;33m)\u001b[0m\u001b[1;33m\u001b[0m\u001b[1;33m\u001b[0m\u001b[0m\n\u001b[0;32m   1443\u001b[0m         \u001b[1;32melse\u001b[0m\u001b[1;33m:\u001b[0m\u001b[1;33m\u001b[0m\u001b[1;33m\u001b[0m\u001b[0m\n",
      "\u001b[1;31mAttributeError\u001b[0m: 'Node' object has no attribute 'output_masks'"
     ]
    }
   ],
   "source": [
    "# %run s2_tiles_supres.py C:/Users/nkalimip/Downloads/DSEN2_process/Images_unzipped/S2A_MSIL2A_20190606T165901_N0212_R069_T15TYL_20190606T212006/S2A_MSIL2A_20190606T165901_N0212_R069_T15TYL_20190606T212006.SAFE/MTD_MSIL2A.xml C:/Users/nkalimip/Downloads/DSEN2_process/Images_DSEN2/S2A_MSIL2A_20190606T165901_N0212_R069_T15TYL_20190606T212006.tif --roi_x_y \"100,100,2000,2000\"\n",
    "# %run s2_tiles_supres.py C:/Users/nkalimip/Downloads/DSEN2_process/Images_unzipped/S2A_MSIL2A_20190606T165901_N0212_R069_T15TYL_20190606T212006/S2A_MSIL2A_20190606T165901_N0212_R069_T15TYL_20190606T212006.SAFE/MTD_MSIL2A.xml C:/Users/nkalimip/Downloads/DSEN2_process/Images_DSEN2/test.tif --roi_x_y \"0,0,1500,1500\" --copy_original_bands"
   ]
  },
  {
   "cell_type": "code",
   "execution_count": 8,
   "id": "e2898b50-299b-437a-a4c8-4bcc1b786600",
   "metadata": {},
   "outputs": [
    {
     "name": "stdout",
     "output_type": "stream",
     "text": [
      "SENTINEL2_L2A:C:/Users/nkalimip/Downloads/DSEN2_process/Images_unzipped/S2A_MSIL2A_20190606T165901_N0212_R069_T15TYM_20190606T212006/S2A_MSIL2A_20190606T165901_N0212_R069_T15TYM_20190606T212006.SAFE/MTD_MSIL2A.xml:10m:EPSG_32615\n",
      "SENTINEL2_L2A:C:/Users/nkalimip/Downloads/DSEN2_process/Images_unzipped/S2A_MSIL2A_20190606T165901_N0212_R069_T15TYM_20190606T212006/S2A_MSIL2A_20190606T165901_N0212_R069_T15TYM_20190606T212006.SAFE/MTD_MSIL2A.xml:20m:EPSG_32615\n",
      "SENTINEL2_L2A:C:/Users/nkalimip/Downloads/DSEN2_process/Images_unzipped/S2A_MSIL2A_20190606T165901_N0212_R069_T15TYM_20190606T212006/S2A_MSIL2A_20190606T165901_N0212_R069_T15TYM_20190606T212006.SAFE/MTD_MSIL2A.xml:60m:EPSG_32615\n",
      "SENTINEL2_L2A:C:/Users/nkalimip/Downloads/DSEN2_process/Images_unzipped/S2A_MSIL2A_20190606T165901_N0212_R069_T15TYM_20190606T212006/S2A_MSIL2A_20190606T165901_N0212_R069_T15TYM_20190606T212006.SAFE/MTD_MSIL2A.xml:TCI:EPSG_32615\n",
      "Selected UTM Zone: UTM 15N\n",
      "Selected pixel region: xmin=6384, ymin=6762, xmax=6821, ymax=8291:\n",
      "Image size: width=438 x height=1530\n",
      "Selected 10m bands: B4 B3 B2 B8\n",
      "Selected 20m bands: B5 B6 B7 B8A B11 B12\n",
      "Selected 60m bands:\n",
      "Loading selected data from: Bands B2, B3, B4, B8 with 10m resolution, UTM 15N\n",
      "Loading selected data from: Bands B5, B6, B7, B8A, B11, B12, AOT, CLD, SCL, SNW, WVP with 20m resolution, UTM 15N\n",
      "Super-resolving the 20m data into 10m bands\n",
      "Symbolic Model Created.\n",
      "Predicting using file: ../models/s2_032_lr_1e-04.hdf5\n",
      "2/2 [==============================] - 0s 219ms/step\n",
      "(6, 1530, 438)\n",
      "Writing the super-resolved bands in C:/Users/nkalimip/Downloads/DSEN2_process/Images_DSEN2/S2A_MSIL2A_20190606T165901_N0212_R069_T15TYM_20190606T212006.tif\n",
      "SRB5 (705 nm)\n",
      "SRB6 (740 nm)\n",
      "SRB7 (783 nm)\n",
      "SRB8A (865 nm)\n",
      "SRB11 (1610 nm)\n",
      "SRB12 (2190 nm)\n"
     ]
    }
   ],
   "source": [
    "%run s2_tiles_supres.py C:/Users/nkalimip/Downloads/DSEN2_process/Images_unzipped/S2A_MSIL2A_20190606T165901_N0212_R069_T15TYM_20190606T212006/S2A_MSIL2A_20190606T165901_N0212_R069_T15TYM_20190606T212006.SAFE/MTD_MSIL2A.xml C:/Users/nkalimip/Downloads/DSEN2_process/Images_DSEN2/S2A_MSIL2A_20190606T165901_N0212_R069_T15TYM_20190606T212006.tif --roi_x_y \"6384,6765,6823,8292\""
   ]
  },
  {
   "cell_type": "code",
   "execution_count": 7,
   "id": "6e6deade-9f57-4e8b-aa41-406b0a7ba0f2",
   "metadata": {},
   "outputs": [
    {
     "name": "stdout",
     "output_type": "stream",
     "text": [
      "SENTINEL2_L2A:C:/Users/nkalimip/Downloads/DSEN2_process/s2/S2B_MSIL2A_20190608T164849_N0212_R026_T16TCS_20190608T212115/S2B_MSIL2A_20190608T164849_N0212_R026_T16TCS_20190608T212115.SAFE/MTD_MSIL2A.xml:10m:EPSG_32616\n",
      "SENTINEL2_L2A:C:/Users/nkalimip/Downloads/DSEN2_process/s2/S2B_MSIL2A_20190608T164849_N0212_R026_T16TCS_20190608T212115/S2B_MSIL2A_20190608T164849_N0212_R026_T16TCS_20190608T212115.SAFE/MTD_MSIL2A.xml:20m:EPSG_32616\n",
      "SENTINEL2_L2A:C:/Users/nkalimip/Downloads/DSEN2_process/s2/S2B_MSIL2A_20190608T164849_N0212_R026_T16TCS_20190608T212115/S2B_MSIL2A_20190608T164849_N0212_R026_T16TCS_20190608T212115.SAFE/MTD_MSIL2A.xml:60m:EPSG_32616\n",
      "SENTINEL2_L2A:C:/Users/nkalimip/Downloads/DSEN2_process/s2/S2B_MSIL2A_20190608T164849_N0212_R026_T16TCS_20190608T212115/S2B_MSIL2A_20190608T164849_N0212_R026_T16TCS_20190608T212115.SAFE/MTD_MSIL2A.xml:TCI:EPSG_32616\n",
      "Selected UTM Zone: UTM 16N\n",
      "Selected pixel region: xmin=198, ymin=7062, xmax=581, ymax=8825:\n",
      "Image size: width=384 x height=1764\n",
      "Selected 10m bands: B4 B3 B2 B8\n",
      "Selected 20m bands: B5 B6 B7 B8A B11 B12\n",
      "Selected 60m bands:\n",
      "Loading selected data from: Bands B2, B3, B4, B8 with 10m resolution, UTM 16N\n",
      "Loading selected data from: Bands B5, B6, B7, B8A, B11, B12, AOT, CLD, SCL, SNW, WVP with 20m resolution, UTM 16N\n",
      "Super-resolving the 20m data into 10m bands\n",
      "Symbolic Model Created.\n",
      "Predicting using file: ../models/s2_032_lr_1e-04.hdf5\n",
      "2/2 [==============================] - 0s 172ms/step\n",
      "(6, 1764, 384)\n",
      "Writing the super-resolved bands in C:/Users/nkalimip/Downloads/DSEN2_process/s2/S2B_MSIL2A_20190608T164849_N0212_R026_T16TCS_20190608T212115.tif\n",
      "SRB5 (705 nm)\n",
      "SRB6 (740 nm)\n",
      "SRB7 (783 nm)\n",
      "SRB8A (865 nm)\n",
      "SRB11 (1610 nm)\n",
      "SRB12 (2190 nm)\n"
     ]
    }
   ],
   "source": [
    "# %run s2_tiles_supres.py C:/Users/nkalimip/Downloads/DSEN2_process/Images_unzipped/S2A_MSIL2A_20190606T165901_N0212_R069_T16TCS_20190606T212006/S2A_MSIL2A_20190606T165901_N0212_R069_T16TCS_20190606T212006.SAFE/MTD_MSIL2A.xml C:/Users/nkalimip/Downloads/DSEN2_process/Images_DSEN2/S2A_MSIL2A_20190606T165901_N0212_R069_T16TCS_20190606T212006.tif --roi_x_y \"201,7062,586,8827\"\n",
    "%run s2_tiles_supres.py C:/Users/nkalimip/Downloads/DSEN2_process/s2/S2B_MSIL2A_20190608T164849_N0212_R026_T16TCS_20190608T212115/S2B_MSIL2A_20190608T164849_N0212_R026_T16TCS_20190608T212115.SAFE/MTD_MSIL2A.xml C:/Users/nkalimip/Downloads/DSEN2_process/s2/S2B_MSIL2A_20190608T164849_N0212_R026_T16TCS_20190608T212115.tif --roi_x_y \"201,7062,586,8827\"\n",
    "\n"
   ]
  },
  {
   "cell_type": "code",
   "execution_count": null,
   "id": "9d1fc86f-f202-4859-a8ed-f944a54a22ea",
   "metadata": {},
   "outputs": [],
   "source": [
    "# %run s2_tiles_supres.py C:/Users/nkalimip/Downloads/DSEN2_process/Images_unzipped//.SAFE/MTD_MSIL2A.xml C:/Users/nkalimip/Downloads/DSEN2_process/Images_DSEN2/.tif --roi_x_y \"100,100,2000,2000\""
   ]
  },
  {
   "cell_type": "code",
   "execution_count": 10,
   "id": "ee173bf3-98d2-4e22-bfc5-5b8014f48051",
   "metadata": {},
   "outputs": [
    {
     "name": "stdout",
     "output_type": "stream",
     "text": [
      "SENTINEL2_L2A:C:/Users/nkalimip/Downloads/DSEN2_process/Images_unzipped/S2A_MSIL2A_20200713T170901_N0214_R112_T14SQJ_20200713T213310/S2A_MSIL2A_20200713T170901_N0214_R112_T14SQJ_20200713T213310.SAFE/MTD_MSIL2A.xml:10m:EPSG_32614\n",
      "SENTINEL2_L2A:C:/Users/nkalimip/Downloads/DSEN2_process/Images_unzipped/S2A_MSIL2A_20200713T170901_N0214_R112_T14SQJ_20200713T213310/S2A_MSIL2A_20200713T170901_N0214_R112_T14SQJ_20200713T213310.SAFE/MTD_MSIL2A.xml:20m:EPSG_32614\n",
      "SENTINEL2_L2A:C:/Users/nkalimip/Downloads/DSEN2_process/Images_unzipped/S2A_MSIL2A_20200713T170901_N0214_R112_T14SQJ_20200713T213310/S2A_MSIL2A_20200713T170901_N0214_R112_T14SQJ_20200713T213310.SAFE/MTD_MSIL2A.xml:60m:EPSG_32614\n",
      "SENTINEL2_L2A:C:/Users/nkalimip/Downloads/DSEN2_process/Images_unzipped/S2A_MSIL2A_20200713T170901_N0214_R112_T14SQJ_20200713T213310/S2A_MSIL2A_20200713T170901_N0214_R112_T14SQJ_20200713T213310.SAFE/MTD_MSIL2A.xml:TCI:EPSG_32614\n",
      "Selected UTM Zone: UTM 14N\n",
      "Selected pixel region: xmin=1986, ymin=8136, xmax=2249, ymax=8897:\n",
      "Image size: width=264 x height=762\n",
      "Selected 10m bands: B4 B3 B2 B8\n",
      "Selected 20m bands: B5 B6 B7 B8A B11 B12\n",
      "Selected 60m bands:\n",
      "Loading selected data from: Bands B2, B3, B4, B8 with 10m resolution, UTM 14N\n",
      "Loading selected data from: Bands B5, B6, B7, B8A, B11, B12, AOT, CLD, SCL, SNW, WVP with 20m resolution, UTM 14N\n",
      "Super-resolving the 20m data into 10m bands\n",
      "Symbolic Model Created.\n",
      "Predicting using file: ../models/s2_032_lr_1e-04.hdf5\n",
      "1/1 [==============================] - 1s 1s/step\n",
      "(6, 762, 264)\n",
      "Writing the super-resolved bands in C:/Users/nkalimip/Downloads/DSEN2_process/Images_DSEN2/S2A_MSIL2A_20200713T170901_N0214_R112_T14SQJ_20200713T213310.tif\n",
      "SRB5 (705 nm)\n",
      "SRB6 (740 nm)\n",
      "SRB7 (783 nm)\n",
      "SRB8A (865 nm)\n",
      "SRB11 (1610 nm)\n",
      "SRB12 (2190 nm)\n"
     ]
    }
   ],
   "source": [
    "%run s2_tiles_supres.py C:/Users/nkalimip/Downloads/DSEN2_process/Images_unzipped/S2A_MSIL2A_20200713T170901_N0214_R112_T14SQJ_20200713T213310/S2A_MSIL2A_20200713T170901_N0214_R112_T14SQJ_20200713T213310.SAFE/MTD_MSIL2A.xml C:/Users/nkalimip/Downloads/DSEN2_process/Images_DSEN2/S2A_MSIL2A_20200713T170901_N0214_R112_T14SQJ_20200713T213310.tif --roi_x_y \"1988,8137,2253,8900\""
   ]
  },
  {
   "cell_type": "code",
   "execution_count": 11,
   "id": "33f43416-8768-4420-bca3-1b55200dbdaa",
   "metadata": {},
   "outputs": [
    {
     "name": "stdout",
     "output_type": "stream",
     "text": [
      "SENTINEL2_L2A:C:/Users/nkalimip/Downloads/DSEN2_process/Images_unzipped/S2A_MSIL2A_20200713T170901_N0214_R112_T15STD_20200713T213310/S2A_MSIL2A_20200713T170901_N0214_R112_T15STD_20200713T213310.SAFE/MTD_MSIL2A.xml:10m:EPSG_32615\n",
      "SENTINEL2_L2A:C:/Users/nkalimip/Downloads/DSEN2_process/Images_unzipped/S2A_MSIL2A_20200713T170901_N0214_R112_T15STD_20200713T213310/S2A_MSIL2A_20200713T170901_N0214_R112_T15STD_20200713T213310.SAFE/MTD_MSIL2A.xml:20m:EPSG_32615\n",
      "SENTINEL2_L2A:C:/Users/nkalimip/Downloads/DSEN2_process/Images_unzipped/S2A_MSIL2A_20200713T170901_N0214_R112_T15STD_20200713T213310/S2A_MSIL2A_20200713T170901_N0214_R112_T15STD_20200713T213310.SAFE/MTD_MSIL2A.xml:60m:EPSG_32615\n",
      "SENTINEL2_L2A:C:/Users/nkalimip/Downloads/DSEN2_process/Images_unzipped/S2A_MSIL2A_20200713T170901_N0214_R112_T15STD_20200713T213310/S2A_MSIL2A_20200713T170901_N0214_R112_T15STD_20200713T213310.SAFE/MTD_MSIL2A.xml:TCI:EPSG_32615\n",
      "Selected UTM Zone: UTM 15N\n",
      "Selected pixel region: xmin=78, ymin=7878, xmax=215, ymax=8651:\n",
      "Image size: width=138 x height=774\n",
      "Selected 10m bands: B4 B3 B2 B8\n",
      "Selected 20m bands: B5 B6 B7 B8A B11 B12\n",
      "Selected 60m bands:\n",
      "Loading selected data from: Bands B2, B3, B4, B8 with 10m resolution, UTM 15N\n",
      "Loading selected data from: Bands B5, B6, B7, B8A, B11, B12, AOT, CLD, SCL, SNW, WVP with 20m resolution, UTM 15N\n",
      "Super-resolving the 20m data into 10m bands\n",
      "Symbolic Model Created.\n",
      "Predicting using file: ../models/s2_032_lr_1e-04.hdf5\n",
      "WARNING:tensorflow:5 out of the last 8 calls to <function Model.make_predict_function.<locals>.predict_function at 0x00000276BB6F6A70> triggered tf.function retracing. Tracing is expensive and the excessive number of tracings could be due to (1) creating @tf.function repeatedly in a loop, (2) passing tensors with different shapes, (3) passing Python objects instead of tensors. For (1), please define your @tf.function outside of the loop. For (2), @tf.function has reduce_retracing=True option that can avoid unnecessary retracing. For (3), please refer to https://www.tensorflow.org/guide/function#controlling_retracing and https://www.tensorflow.org/api_docs/python/tf/function for  more details.\n",
      "1/1 [==============================] - 1s 1s/step\n",
      "(6, 774, 138)\n",
      "Writing the super-resolved bands in C:/Users/nkalimip/Downloads/DSEN2_process/Images_DSEN2/S2A_MSIL2A_20200713T170901_N0214_R112_T15STD_20200713T213310.tif\n",
      "SRB5 (705 nm)\n",
      "SRB6 (740 nm)\n",
      "SRB7 (783 nm)\n",
      "SRB8A (865 nm)\n",
      "SRB11 (1610 nm)\n",
      "SRB12 (2190 nm)\n"
     ]
    }
   ],
   "source": [
    "%run s2_tiles_supres.py C:/Users/nkalimip/Downloads/DSEN2_process/Images_unzipped/S2A_MSIL2A_20200713T170901_N0214_R112_T15STD_20200713T213310/S2A_MSIL2A_20200713T170901_N0214_R112_T15STD_20200713T213310.SAFE/MTD_MSIL2A.xml C:/Users/nkalimip/Downloads/DSEN2_process/Images_DSEN2/S2A_MSIL2A_20200713T170901_N0214_R112_T15STD_20200713T213310.tif --roi_x_y \"79,7882,220,8651\""
   ]
  },
  {
   "cell_type": "code",
   "execution_count": 12,
   "id": "9412be34-8994-44b7-b68b-5b5b98ba5149",
   "metadata": {},
   "outputs": [
    {
     "name": "stdout",
     "output_type": "stream",
     "text": [
      "SENTINEL2_L2A:C:/Users/nkalimip/Downloads/DSEN2_process/Images_unzipped/S2A_MSIL2A_20200806T164901_N0214_R026_T15TYM_20200806T211742/S2A_MSIL2A_20200806T164901_N0214_R026_T15TYM_20200806T211742.SAFE/MTD_MSIL2A.xml:10m:EPSG_32615\n",
      "SENTINEL2_L2A:C:/Users/nkalimip/Downloads/DSEN2_process/Images_unzipped/S2A_MSIL2A_20200806T164901_N0214_R026_T15TYM_20200806T211742/S2A_MSIL2A_20200806T164901_N0214_R026_T15TYM_20200806T211742.SAFE/MTD_MSIL2A.xml:20m:EPSG_32615\n",
      "SENTINEL2_L2A:C:/Users/nkalimip/Downloads/DSEN2_process/Images_unzipped/S2A_MSIL2A_20200806T164901_N0214_R026_T15TYM_20200806T211742/S2A_MSIL2A_20200806T164901_N0214_R026_T15TYM_20200806T211742.SAFE/MTD_MSIL2A.xml:60m:EPSG_32615\n",
      "SENTINEL2_L2A:C:/Users/nkalimip/Downloads/DSEN2_process/Images_unzipped/S2A_MSIL2A_20200806T164901_N0214_R026_T15TYM_20200806T211742/S2A_MSIL2A_20200806T164901_N0214_R026_T15TYM_20200806T211742.SAFE/MTD_MSIL2A.xml:TCI:EPSG_32615\n",
      "Selected UTM Zone: UTM 15N\n",
      "Selected pixel region: xmin=6528, ymin=6792, xmax=6839, ymax=8417:\n",
      "Image size: width=312 x height=1626\n",
      "Selected 10m bands: B4 B3 B2 B8\n",
      "Selected 20m bands: B5 B6 B7 B8A B11 B12\n",
      "Selected 60m bands:\n",
      "Loading selected data from: Bands B2, B3, B4, B8 with 10m resolution, UTM 15N\n",
      "Loading selected data from: Bands B5, B6, B7, B8A, B11, B12, AOT, CLD, SCL, SNW, WVP with 20m resolution, UTM 15N\n",
      "Super-resolving the 20m data into 10m bands\n",
      "Symbolic Model Created.\n",
      "Predicting using file: ../models/s2_032_lr_1e-04.hdf5\n",
      "WARNING:tensorflow:6 out of the last 9 calls to <function Model.make_predict_function.<locals>.predict_function at 0x00000276BB6F7760> triggered tf.function retracing. Tracing is expensive and the excessive number of tracings could be due to (1) creating @tf.function repeatedly in a loop, (2) passing tensors with different shapes, (3) passing Python objects instead of tensors. For (1), please define your @tf.function outside of the loop. For (2), @tf.function has reduce_retracing=True option that can avoid unnecessary retracing. For (3), please refer to https://www.tensorflow.org/guide/function#controlling_retracing and https://www.tensorflow.org/api_docs/python/tf/function for  more details.\n",
      "2/2 [==============================] - 1s 1s/step\n",
      "(6, 1626, 312)\n",
      "Writing the super-resolved bands in C:/Users/nkalimip/Downloads/DSEN2_process/Images_DSEN2/S2A_MSIL2A_20200806T164901_N0214_R026_T15TYM_20200806T211742.tif\n",
      "SRB5 (705 nm)\n",
      "SRB6 (740 nm)\n",
      "SRB7 (783 nm)\n",
      "SRB8A (865 nm)\n",
      "SRB11 (1610 nm)\n",
      "SRB12 (2190 nm)\n"
     ]
    }
   ],
   "source": [
    "%run s2_tiles_supres.py C:/Users/nkalimip/Downloads/DSEN2_process/Images_unzipped/S2A_MSIL2A_20200806T164901_N0214_R026_T15TYM_20200806T211742/S2A_MSIL2A_20200806T164901_N0214_R026_T15TYM_20200806T211742.SAFE/MTD_MSIL2A.xml C:/Users/nkalimip/Downloads/DSEN2_process/Images_DSEN2/S2A_MSIL2A_20200806T164901_N0214_R026_T15TYM_20200806T211742.tif --roi_x_y \"6529,6796,6840,8422\""
   ]
  },
  {
   "cell_type": "code",
   "execution_count": 17,
   "id": "022b40ab-286d-4826-bdf8-cca8d4208b22",
   "metadata": {},
   "outputs": [
    {
     "name": "stdout",
     "output_type": "stream",
     "text": [
      "SENTINEL2_L2A:C:/Users/nkalimip/Downloads/DSEN2_process/Images_unzipped/S2A_MSIL2A_20200806T164901_N0214_R026_T16TCS_20200806T211742/S2A_MSIL2A_20200806T164901_N0214_R026_T16TCS_20200806T211742.SAFE/MTD_MSIL2A.xml:10m:EPSG_32616\n",
      "SENTINEL2_L2A:C:/Users/nkalimip/Downloads/DSEN2_process/Images_unzipped/S2A_MSIL2A_20200806T164901_N0214_R026_T16TCS_20200806T211742/S2A_MSIL2A_20200806T164901_N0214_R026_T16TCS_20200806T211742.SAFE/MTD_MSIL2A.xml:20m:EPSG_32616\n",
      "SENTINEL2_L2A:C:/Users/nkalimip/Downloads/DSEN2_process/Images_unzipped/S2A_MSIL2A_20200806T164901_N0214_R026_T16TCS_20200806T211742/S2A_MSIL2A_20200806T164901_N0214_R026_T16TCS_20200806T211742.SAFE/MTD_MSIL2A.xml:60m:EPSG_32616\n",
      "SENTINEL2_L2A:C:/Users/nkalimip/Downloads/DSEN2_process/Images_unzipped/S2A_MSIL2A_20200806T164901_N0214_R026_T16TCS_20200806T211742/S2A_MSIL2A_20200806T164901_N0214_R026_T16TCS_20200806T211742.SAFE/MTD_MSIL2A.xml:TCI:EPSG_32616\n",
      "Selected UTM Zone: UTM 16N\n",
      "Selected pixel region: xmin=240, ymin=7128, xmax=503, ymax=8759:\n",
      "Image size: width=264 x height=1632\n",
      "Selected 10m bands: B4 B3 B2 B8\n",
      "Selected 20m bands: B5 B6 B7 B8A B11 B12\n",
      "Selected 60m bands:\n",
      "Loading selected data from: Bands B2, B3, B4, B8 with 10m resolution, UTM 16N\n",
      "Loading selected data from: Bands B5, B6, B7, B8A, B11, B12, AOT, CLD, SCL, SNW, WVP with 20m resolution, UTM 16N\n",
      "Super-resolving the 20m data into 10m bands\n",
      "Symbolic Model Created.\n",
      "Predicting using file: ../models/s2_032_lr_1e-04.hdf5\n",
      "2/2 [==============================] - 0s 217ms/step\n",
      "(6, 1632, 264)\n",
      "Writing the super-resolved bands in C:/Users/nkalimip/Downloads/DSEN2_process/Images_DSEN2/S2A_MSIL2A_20200806T164901_N0214_R026_T16TCS_20200806T211742.tif\n",
      "SRB5 (705 nm)\n",
      "SRB6 (740 nm)\n",
      "SRB7 (783 nm)\n",
      "SRB8A (865 nm)\n",
      "SRB11 (1610 nm)\n",
      "SRB12 (2190 nm)\n"
     ]
    }
   ],
   "source": [
    "%run s2_tiles_supres.py C:/Users/nkalimip/Downloads/DSEN2_process/Images_unzipped/S2A_MSIL2A_20200806T164901_N0214_R026_T16TCS_20200806T211742/S2A_MSIL2A_20200806T164901_N0214_R026_T16TCS_20200806T211742.SAFE/MTD_MSIL2A.xml C:/Users/nkalimip/Downloads/DSEN2_process/Images_DSEN2/S2A_MSIL2A_20200806T164901_N0214_R026_T16TCS_20200806T211742.tif --roi_x_y \"240,7129,504,8762\""
   ]
  },
  {
   "cell_type": "code",
   "execution_count": 14,
   "id": "5b4d4072-fad0-4fa6-b423-2e9251b772e7",
   "metadata": {},
   "outputs": [
    {
     "name": "stdout",
     "output_type": "stream",
     "text": [
      "SENTINEL2_L2A:C:/Users/nkalimip/Downloads/DSEN2_process/Images_unzipped/S2A_MSIL2A_20210724T190921_N0301_R056_T10TER_20210724T233407/S2A_MSIL2A_20210724T190921_N0301_R056_T10TER_20210724T233407.SAFE/MTD_MSIL2A.xml:10m:EPSG_32610\n",
      "SENTINEL2_L2A:C:/Users/nkalimip/Downloads/DSEN2_process/Images_unzipped/S2A_MSIL2A_20210724T190921_N0301_R056_T10TER_20210724T233407/S2A_MSIL2A_20210724T190921_N0301_R056_T10TER_20210724T233407.SAFE/MTD_MSIL2A.xml:20m:EPSG_32610\n",
      "SENTINEL2_L2A:C:/Users/nkalimip/Downloads/DSEN2_process/Images_unzipped/S2A_MSIL2A_20210724T190921_N0301_R056_T10TER_20210724T233407/S2A_MSIL2A_20210724T190921_N0301_R056_T10TER_20210724T233407.SAFE/MTD_MSIL2A.xml:60m:EPSG_32610\n",
      "SENTINEL2_L2A:C:/Users/nkalimip/Downloads/DSEN2_process/Images_unzipped/S2A_MSIL2A_20210724T190921_N0301_R056_T10TER_20210724T233407/S2A_MSIL2A_20210724T190921_N0301_R056_T10TER_20210724T233407.SAFE/MTD_MSIL2A.xml:TCI:EPSG_32610\n",
      "Selected UTM Zone: UTM 10N\n",
      "Selected pixel region: xmin=5094, ymin=2628, xmax=5333, ymax=3857:\n",
      "Image size: width=240 x height=1230\n",
      "Selected 10m bands: B4 B3 B2 B8\n",
      "Selected 20m bands: B5 B6 B7 B8A B11 B12\n",
      "Selected 60m bands:\n",
      "Loading selected data from: Bands B2, B3, B4, B8 with 10m resolution, UTM 10N\n",
      "Loading selected data from: Bands B5, B6, B7, B8A, B11, B12, AOT, CLD, SCL, SNW, WVP with 20m resolution, UTM 10N\n",
      "Super-resolving the 20m data into 10m bands\n",
      "Symbolic Model Created.\n",
      "Predicting using file: ../models/s2_032_lr_1e-04.hdf5\n",
      "2/2 [==============================] - 1s 396ms/step\n",
      "(6, 1230, 240)\n",
      "Writing the super-resolved bands in C:/Users/nkalimip/Downloads/DSEN2_process/Images_DSEN2/S2A_MSIL2A_20210724T190921_N0301_R056_T10TER_20210724T233407.tif\n",
      "SRB5 (705 nm)\n",
      "SRB6 (740 nm)\n",
      "SRB7 (783 nm)\n",
      "SRB8A (865 nm)\n",
      "SRB11 (1610 nm)\n",
      "SRB12 (2190 nm)\n"
     ]
    }
   ],
   "source": [
    "%run s2_tiles_supres.py C:/Users/nkalimip/Downloads/DSEN2_process/Images_unzipped/S2A_MSIL2A_20210724T190921_N0301_R056_T10TER_20210724T233407/S2A_MSIL2A_20210724T190921_N0301_R056_T10TER_20210724T233407.SAFE/MTD_MSIL2A.xml C:/Users/nkalimip/Downloads/DSEN2_process/Images_DSEN2/S2A_MSIL2A_20210724T190921_N0301_R056_T10TER_20210724T233407.tif --roi_x_y \"5094,2632,5335,3861\""
   ]
  },
  {
   "cell_type": "code",
   "execution_count": 16,
   "id": "1e174a03-f4b9-4f10-a965-969c085c10db",
   "metadata": {},
   "outputs": [
    {
     "name": "stdout",
     "output_type": "stream",
     "text": [
      "SENTINEL2_L2A:C:/Users/nkalimip/Downloads/DSEN2_process/Images_unzipped/S2A_MSIL2A_20210826T173911_N0301_R098_T13SCS_20210826T234856/S2A_MSIL2A_20210826T173911_N0301_R098_T13SCS_20210826T234856.SAFE/MTD_MSIL2A.xml:10m:EPSG_32613\n",
      "SENTINEL2_L2A:C:/Users/nkalimip/Downloads/DSEN2_process/Images_unzipped/S2A_MSIL2A_20210826T173911_N0301_R098_T13SCS_20210826T234856/S2A_MSIL2A_20210826T173911_N0301_R098_T13SCS_20210826T234856.SAFE/MTD_MSIL2A.xml:20m:EPSG_32613\n",
      "SENTINEL2_L2A:C:/Users/nkalimip/Downloads/DSEN2_process/Images_unzipped/S2A_MSIL2A_20210826T173911_N0301_R098_T13SCS_20210826T234856/S2A_MSIL2A_20210826T173911_N0301_R098_T13SCS_20210826T234856.SAFE/MTD_MSIL2A.xml:60m:EPSG_32613\n",
      "SENTINEL2_L2A:C:/Users/nkalimip/Downloads/DSEN2_process/Images_unzipped/S2A_MSIL2A_20210826T173911_N0301_R098_T13SCS_20210826T234856/S2A_MSIL2A_20210826T173911_N0301_R098_T13SCS_20210826T234856.SAFE/MTD_MSIL2A.xml:TCI:EPSG_32613\n",
      "Selected UTM Zone: UTM 13N\n",
      "Selected pixel region: xmin=2538, ymin=7944, xmax=2807, ymax=9917:\n",
      "Image size: width=270 x height=1974\n",
      "Selected 10m bands: B4 B3 B2 B8\n",
      "Selected 20m bands: B5 B6 B7 B8A B11 B12\n",
      "Selected 60m bands:\n",
      "Loading selected data from: Bands B2, B3, B4, B8 with 10m resolution, UTM 13N\n",
      "Loading selected data from: Bands B5, B6, B7, B8A, B11, B12, AOT, CLD, SCL, SNW, WVP with 20m resolution, UTM 13N\n",
      "Super-resolving the 20m data into 10m bands\n",
      "Symbolic Model Created.\n",
      "Predicting using file: ../models/s2_032_lr_1e-04.hdf5\n",
      "2/2 [==============================] - 2s 2s/step\n",
      "(6, 1974, 270)\n",
      "Writing the super-resolved bands in C:/Users/nkalimip/Downloads/DSEN2_process/Images_DSEN2/S2A_MSIL2A_20210826T173911_N0301_R098_T13SCS_20210826T234856.tif\n",
      "SRB5 (705 nm)\n",
      "SRB6 (740 nm)\n",
      "SRB7 (783 nm)\n",
      "SRB8A (865 nm)\n",
      "SRB11 (1610 nm)\n",
      "SRB12 (2190 nm)\n"
     ]
    }
   ],
   "source": [
    "%run s2_tiles_supres.py C:/Users/nkalimip/Downloads/DSEN2_process/Images_unzipped/S2A_MSIL2A_20210826T173911_N0301_R098_T13SCS_20210826T234856/S2A_MSIL2A_20210826T173911_N0301_R098_T13SCS_20210826T234856.SAFE/MTD_MSIL2A.xml C:/Users/nkalimip/Downloads/DSEN2_process/Images_DSEN2/S2A_MSIL2A_20210826T173911_N0301_R098_T13SCS_20210826T234856.tif --roi_x_y \"2540,7945,2809,9918\""
   ]
  },
  {
   "cell_type": "code",
   "execution_count": 18,
   "id": "d35a3bd5-478c-4a63-8749-dc398e2c058a",
   "metadata": {},
   "outputs": [
    {
     "name": "stdout",
     "output_type": "stream",
     "text": [
      "SENTINEL2_L2A:C:/Users/nkalimip/Downloads/DSEN2_process/Images_unzipped/S2B_MSIL2A_20190608T164849_N0212_R026_T15TYL_20190608T212115/S2B_MSIL2A_20190608T164849_N0212_R026_T15TYL_20190608T212115.SAFE/MTD_MSIL2A.xml:10m:EPSG_32615\n",
      "SENTINEL2_L2A:C:/Users/nkalimip/Downloads/DSEN2_process/Images_unzipped/S2B_MSIL2A_20190608T164849_N0212_R026_T15TYL_20190608T212115/S2B_MSIL2A_20190608T164849_N0212_R026_T15TYL_20190608T212115.SAFE/MTD_MSIL2A.xml:20m:EPSG_32615\n",
      "SENTINEL2_L2A:C:/Users/nkalimip/Downloads/DSEN2_process/Images_unzipped/S2B_MSIL2A_20190608T164849_N0212_R026_T15TYL_20190608T212115/S2B_MSIL2A_20190608T164849_N0212_R026_T15TYL_20190608T212115.SAFE/MTD_MSIL2A.xml:60m:EPSG_32615\n",
      "SENTINEL2_L2A:C:/Users/nkalimip/Downloads/DSEN2_process/Images_unzipped/S2B_MSIL2A_20190608T164849_N0212_R026_T15TYL_20190608T212115/S2B_MSIL2A_20190608T164849_N0212_R026_T15TYL_20190608T212115.SAFE/MTD_MSIL2A.xml:TCI:EPSG_32615\n",
      "Selected UTM Zone: UTM 15N\n",
      "Selected pixel region: xmin=6462, ymin=4878, xmax=6803, ymax=6365:\n",
      "Image size: width=342 x height=1488\n",
      "Selected 10m bands: B4 B3 B2 B8\n",
      "Selected 20m bands: B5 B6 B7 B8A B11 B12\n",
      "Selected 60m bands:\n",
      "Loading selected data from: Bands B2, B3, B4, B8 with 10m resolution, UTM 15N\n",
      "Loading selected data from: Bands B5, B6, B7, B8A, B11, B12, AOT, CLD, SCL, SNW, WVP with 20m resolution, UTM 15N\n",
      "Super-resolving the 20m data into 10m bands\n",
      "Symbolic Model Created.\n",
      "Predicting using file: ../models/s2_032_lr_1e-04.hdf5\n",
      "2/2 [==============================] - 0s 224ms/step\n",
      "(6, 1488, 342)\n",
      "Writing the super-resolved bands in C:/Users/nkalimip/Downloads/DSEN2_process/Images_DSEN2/S2B_MSIL2A_20190608T164849_N0212_R026_T15TYL_20190608T212115.tif\n",
      "SRB5 (705 nm)\n",
      "SRB6 (740 nm)\n",
      "SRB7 (783 nm)\n",
      "SRB8A (865 nm)\n",
      "SRB11 (1610 nm)\n",
      "SRB12 (2190 nm)\n"
     ]
    }
   ],
   "source": [
    "%run s2_tiles_supres.py C:/Users/nkalimip/Downloads/DSEN2_process/Images_unzipped/S2B_MSIL2A_20190608T164849_N0212_R026_T15TYL_20190608T212115/S2B_MSIL2A_20190608T164849_N0212_R026_T15TYL_20190608T212115.SAFE/MTD_MSIL2A.xml C:/Users/nkalimip/Downloads/DSEN2_process/Images_DSEN2/S2B_MSIL2A_20190608T164849_N0212_R026_T15TYL_20190608T212115.tif --roi_x_y \"6467,4883,6804,6365\""
   ]
  },
  {
   "cell_type": "code",
   "execution_count": 19,
   "id": "b2135083-0cc9-48c2-bfbd-ccc7c52e0206",
   "metadata": {},
   "outputs": [
    {
     "name": "stdout",
     "output_type": "stream",
     "text": [
      "SENTINEL2_L2A:C:/Users/nkalimip/Downloads/DSEN2_process/Images_unzipped/S2B_MSIL2A_20190822T173909_N0213_R098_T13SCS_20190822T220238/S2B_MSIL2A_20190822T173909_N0213_R098_T13SCS_20190822T220238.SAFE/MTD_MSIL2A.xml:10m:EPSG_32613\n",
      "SENTINEL2_L2A:C:/Users/nkalimip/Downloads/DSEN2_process/Images_unzipped/S2B_MSIL2A_20190822T173909_N0213_R098_T13SCS_20190822T220238/S2B_MSIL2A_20190822T173909_N0213_R098_T13SCS_20190822T220238.SAFE/MTD_MSIL2A.xml:20m:EPSG_32613\n",
      "SENTINEL2_L2A:C:/Users/nkalimip/Downloads/DSEN2_process/Images_unzipped/S2B_MSIL2A_20190822T173909_N0213_R098_T13SCS_20190822T220238/S2B_MSIL2A_20190822T173909_N0213_R098_T13SCS_20190822T220238.SAFE/MTD_MSIL2A.xml:60m:EPSG_32613\n",
      "SENTINEL2_L2A:C:/Users/nkalimip/Downloads/DSEN2_process/Images_unzipped/S2B_MSIL2A_20190822T173909_N0213_R098_T13SCS_20190822T220238/S2B_MSIL2A_20190822T173909_N0213_R098_T13SCS_20190822T220238.SAFE/MTD_MSIL2A.xml:TCI:EPSG_32613\n",
      "Selected UTM Zone: UTM 13N\n",
      "Selected pixel region: xmin=2520, ymin=7854, xmax=2807, ymax=9989:\n",
      "Image size: width=288 x height=2136\n",
      "Selected 10m bands: B4 B3 B2 B8\n",
      "Selected 20m bands: B5 B6 B7 B8A B11 B12\n",
      "Selected 60m bands:\n",
      "Loading selected data from: Bands B2, B3, B4, B8 with 10m resolution, UTM 13N\n",
      "Loading selected data from: Bands B5, B6, B7, B8A, B11, B12, AOT, CLD, SCL, SNW, WVP with 20m resolution, UTM 13N\n",
      "Super-resolving the 20m data into 10m bands\n",
      "Symbolic Model Created.\n",
      "Predicting using file: ../models/s2_032_lr_1e-04.hdf5\n",
      "2/2 [==============================] - 2s 2s/step\n",
      "(6, 2136, 288)\n",
      "Writing the super-resolved bands in C:/Users/nkalimip/Downloads/DSEN2_process/Images_DSEN2/S2B_MSIL2A_20190822T173909_N0213_R098_T13SCS_20190822T220238.tif\n",
      "SRB5 (705 nm)\n",
      "SRB6 (740 nm)\n",
      "SRB7 (783 nm)\n",
      "SRB8A (865 nm)\n",
      "SRB11 (1610 nm)\n",
      "SRB12 (2190 nm)\n"
     ]
    }
   ],
   "source": [
    "%run s2_tiles_supres.py C:/Users/nkalimip/Downloads/DSEN2_process/Images_unzipped/S2B_MSIL2A_20190822T173909_N0213_R098_T13SCS_20190822T220238/S2B_MSIL2A_20190822T173909_N0213_R098_T13SCS_20190822T220238.SAFE/MTD_MSIL2A.xml C:/Users/nkalimip/Downloads/DSEN2_process/Images_DSEN2/S2B_MSIL2A_20190822T173909_N0213_R098_T13SCS_20190822T220238.tif --roi_x_y \"2521,7857,2810,9990\""
   ]
  },
  {
   "cell_type": "code",
   "execution_count": 20,
   "id": "69fc5c04-853e-4934-b6d7-179629a21783",
   "metadata": {},
   "outputs": [
    {
     "name": "stdout",
     "output_type": "stream",
     "text": [
      "SENTINEL2_L2A:C:/Users/nkalimip/Downloads/DSEN2_process/Images_unzipped/S2B_MSIL2A_20190825T174909_N0213_R141_T13SCS_20190825T214149/S2B_MSIL2A_20190825T174909_N0213_R141_T13SCS_20190825T214149.SAFE/MTD_MSIL2A.xml:10m:EPSG_32613\n",
      "SENTINEL2_L2A:C:/Users/nkalimip/Downloads/DSEN2_process/Images_unzipped/S2B_MSIL2A_20190825T174909_N0213_R141_T13SCS_20190825T214149/S2B_MSIL2A_20190825T174909_N0213_R141_T13SCS_20190825T214149.SAFE/MTD_MSIL2A.xml:20m:EPSG_32613\n",
      "SENTINEL2_L2A:C:/Users/nkalimip/Downloads/DSEN2_process/Images_unzipped/S2B_MSIL2A_20190825T174909_N0213_R141_T13SCS_20190825T214149/S2B_MSIL2A_20190825T174909_N0213_R141_T13SCS_20190825T214149.SAFE/MTD_MSIL2A.xml:60m:EPSG_32613\n",
      "SENTINEL2_L2A:C:/Users/nkalimip/Downloads/DSEN2_process/Images_unzipped/S2B_MSIL2A_20190825T174909_N0213_R141_T13SCS_20190825T214149/S2B_MSIL2A_20190825T174909_N0213_R141_T13SCS_20190825T214149.SAFE/MTD_MSIL2A.xml:TCI:EPSG_32613\n",
      "Selected UTM Zone: UTM 13N\n",
      "Selected pixel region: xmin=2484, ymin=7890, xmax=2837, ymax=9995:\n",
      "Image size: width=354 x height=2106\n",
      "Selected 10m bands: B4 B3 B2 B8\n",
      "Selected 20m bands: B5 B6 B7 B8A B11 B12\n",
      "Selected 60m bands:\n",
      "Loading selected data from: Bands B2, B3, B4, B8 with 10m resolution, UTM 13N\n",
      "Loading selected data from: Bands B5, B6, B7, B8A, B11, B12, AOT, CLD, SCL, SNW, WVP with 20m resolution, UTM 13N\n",
      "Super-resolving the 20m data into 10m bands\n",
      "Symbolic Model Created.\n",
      "Predicting using file: ../models/s2_032_lr_1e-04.hdf5\n",
      "3/3 [==============================] - 1s 579ms/step\n",
      "(6, 2106, 354)\n",
      "Writing the super-resolved bands in C:/Users/nkalimip/Downloads/DSEN2_process/Images_DSEN2/S2B_MSIL2A_20190825T174909_N0213_R141_T13SCS_20190825T214149.tif\n",
      "SRB5 (705 nm)\n",
      "SRB6 (740 nm)\n",
      "SRB7 (783 nm)\n",
      "SRB8A (865 nm)\n",
      "SRB11 (1610 nm)\n",
      "SRB12 (2190 nm)\n"
     ]
    }
   ],
   "source": [
    "%run s2_tiles_supres.py C:/Users/nkalimip/Downloads/DSEN2_process/Images_unzipped/S2B_MSIL2A_20190825T174909_N0213_R141_T13SCS_20190825T214149/S2B_MSIL2A_20190825T174909_N0213_R141_T13SCS_20190825T214149.SAFE/MTD_MSIL2A.xml C:/Users/nkalimip/Downloads/DSEN2_process/Images_DSEN2/S2B_MSIL2A_20190825T174909_N0213_R141_T13SCS_20190825T214149.tif --roi_x_y \"2488,7893,2841,9998\""
   ]
  },
  {
   "cell_type": "code",
   "execution_count": 21,
   "id": "8af480d4-0ce7-4b6d-8ba0-b36181977283",
   "metadata": {},
   "outputs": [
    {
     "name": "stdout",
     "output_type": "stream",
     "text": [
      "SENTINEL2_L2A:C:/Users/nkalimip/Downloads/DSEN2_process/Images_unzipped/S2B_MSIL2A_20190826T153819_N0213_R011_T18TYN_20190826T195901/S2B_MSIL2A_20190826T153819_N0213_R011_T18TYN_20190826T195901.SAFE/MTD_MSIL2A.xml:10m:EPSG_32618\n",
      "SENTINEL2_L2A:C:/Users/nkalimip/Downloads/DSEN2_process/Images_unzipped/S2B_MSIL2A_20190826T153819_N0213_R011_T18TYN_20190826T195901/S2B_MSIL2A_20190826T153819_N0213_R011_T18TYN_20190826T195901.SAFE/MTD_MSIL2A.xml:20m:EPSG_32618\n",
      "SENTINEL2_L2A:C:/Users/nkalimip/Downloads/DSEN2_process/Images_unzipped/S2B_MSIL2A_20190826T153819_N0213_R011_T18TYN_20190826T195901/S2B_MSIL2A_20190826T153819_N0213_R011_T18TYN_20190826T195901.SAFE/MTD_MSIL2A.xml:60m:EPSG_32618\n",
      "SENTINEL2_L2A:C:/Users/nkalimip/Downloads/DSEN2_process/Images_unzipped/S2B_MSIL2A_20190826T153819_N0213_R011_T18TYN_20190826T195901/S2B_MSIL2A_20190826T153819_N0213_R011_T18TYN_20190826T195901.SAFE/MTD_MSIL2A.xml:TCI:EPSG_32618\n",
      "Selected UTM Zone: UTM 18N\n",
      "Selected pixel region: xmin=1824, ymin=8922, xmax=2063, ymax=9647:\n",
      "Image size: width=240 x height=726\n",
      "Selected 10m bands: B4 B3 B2 B8\n",
      "Selected 20m bands: B5 B6 B7 B8A B11 B12\n",
      "Selected 60m bands:\n",
      "Loading selected data from: Bands B2, B3, B4, B8 with 10m resolution, UTM 18N\n",
      "Loading selected data from: Bands B5, B6, B7, B8A, B11, B12, AOT, CLD, SCL, SNW, WVP with 20m resolution, UTM 18N\n",
      "Super-resolving the 20m data into 10m bands\n",
      "Symbolic Model Created.\n",
      "Predicting using file: ../models/s2_032_lr_1e-04.hdf5\n",
      "1/1 [==============================] - 0s 159ms/step\n",
      "(6, 726, 240)\n",
      "Writing the super-resolved bands in C:/Users/nkalimip/Downloads/DSEN2_process/Images_DSEN2/S2B_MSIL2A_20190826T153819_N0213_R011_T18TYN_20190826T195901.tif\n",
      "SRB5 (705 nm)\n",
      "SRB6 (740 nm)\n",
      "SRB7 (783 nm)\n",
      "SRB8A (865 nm)\n",
      "SRB11 (1610 nm)\n",
      "SRB12 (2190 nm)\n"
     ]
    }
   ],
   "source": [
    "%run s2_tiles_supres.py C:/Users/nkalimip/Downloads/DSEN2_process/Images_unzipped/S2B_MSIL2A_20190826T153819_N0213_R011_T18TYN_20190826T195901/S2B_MSIL2A_20190826T153819_N0213_R011_T18TYN_20190826T195901.SAFE/MTD_MSIL2A.xml C:/Users/nkalimip/Downloads/DSEN2_process/Images_DSEN2/S2B_MSIL2A_20190826T153819_N0213_R011_T18TYN_20190826T195901.tif --roi_x_y \"1826,8923,2067,9652\"\n",
    "\n",
    "# %run s2_tiles_supres.py C:/Users/nkalimip/Downloads/DSEN2_process/Images_unzipped/S2B_MSIL2A_20190826T153819_N0213_R011_T18TYN_20190826T195901/S2B_MSIL2A_20190826T153819_N0213_R011_T18TYN_20190826T195901.SAFE/MTD_MSIL2A.xml C:/Users/nkalimip/Downloads/DSEN2_process/Images_DSEN2/test1.tif --roi_lon_lat=\"-70.34611111,42.51805556,-70.31916667,42.45333333\"\n",
    "# %run s2_tiles_supres.py C:/Users/nkalimip/Downloads/DSEN2_process/Images_unzipped/S2B_MSIL2A_20190826T153819_N0213_R011_T18TYN_20190826T195901/S2B_MSIL2A_20190826T153819_N0213_R011_T18TYN_20190826T195901.SAFE/MTD_MSIL2A.xml C:/Users/nkalimip/Downloads/DSEN2_process/Images_DSEN2/test1.tif --roi_lon_lat=\"-70.0,42.0,-70.5,42.5\"\n",
    "# %run s2_tiles_supres.py C:/Users/nkalimip/Downloads/DSEN2_process/Images_unzipped/S2B_MSIL2A_20190826T153819_N0213_R011_T18TYN_20190826T195901/S2B_MSIL2A_20190826T153819_N0213_R011_T18TYN_20190826T195901.SAFE/MTD_MSIL2A.xml C:/Users/nkalimip/Downloads/DSEN2_process/Images_DSEN2/test3.tif --roi_x_y \"690,4420,1164,4974\"\n",
    "# %run s2_tiles_supres.py C:/Users/nkalimip/Downloads/DSEN2_process/Images_unzipped/S2B_MSIL2A_20190826T153819_N0213_R011_T18TYN_20190826T195901/S2B_MSIL2A_20190826T153819_N0213_R011_T18TYN_20190826T195901.SAFE/MTD_MSIL2A.xml C:/Users/nkalimip/Downloads/DSEN2_process/Images_DSEN2/test4.tif --roi_x_y \"800,4500,1200,4912\"\n",
    "\n",
    "# %run s2_tiles_supres.py C:/Users/nkalimip/Downloads/DSEN2_process/Images_unzipped/S2B_MSIL2A_20190826T153819_N0213_R011_T18TYN_20190826T195901/S2B_MSIL2A_20190826T153819_N0213_R011_T18TYN_20190826T195901.SAFE/MTD_MSIL2A.xml C:/Users/nkalimip/Downloads/DSEN2_process/Images_DSEN2/test5.tif --roi_x_y \"1600,8800,2200,9700\"\n",
    "# %run s2_tiles_supres.py C:/Users/nkalimip/Downloads/DSEN2_process/Images_unzipped/S2B_MSIL2A_20190826T153819_N0213_R011_T18TYN_20190826T195901/S2B_MSIL2A_20190826T153819_N0213_R011_T18TYN_20190826T195901.SAFE/MTD_MSIL2A.xml C:/Users/nkalimip/Downloads/DSEN2_process/Images_DSEN2/test6.tif --roi_x_y \"1200,8700,2200,9700\"\n",
    "\n",
    "\n",
    "# %run s2_tiles_supres.py C:/Users/nkalimip/Downloads/DSEN2_process/Images_unzipped/S2B_MSIL2A_20190826T153819_N0213_R011_T18TYN_20190826T195901/S2B_MSIL2A_20190826T153819_N0213_R011_T18TYN_20190826T195901.SAFE/MTD_MSIL2A.xml C:/Users/nkalimip/Downloads/DSEN2_process/Images_DSEN2/test7.tif --roi_x_y \"1600,8800,2200,9700\" --copy_original_bands\n",
    "# %run s2_tiles_supres.py C:/Users/nkalimip/Downloads/DSEN2_process/Images_unzipped/S2B_MSIL2A_20190826T153819_N0213_R011_T18TYN_20190826T195901/S2B_MSIL2A_20190826T153819_N0213_R011_T18TYN_20190826T195901.SAFE/MTD_MSIL2A.xml C:/Users/nkalimip/Downloads/DSEN2_process/Images_DSEN2/test8.tif --roi_x_y \"1200,8700,2200,9700\" --copy_original_bands\n",
    "# %run s2_tiles_supres.py C:/Users/nkalimip/Downloads/DSEN2_process/Images_unzipped/S2B_MSIL2A_20190826T153819_N0213_R011_T18TYN_20190826T195901/S2B_MSIL2A_20190826T153819_N0213_R011_T18TYN_20190826T195901.SAFE/MTD_MSIL2A.xml C:/Users/nkalimip/Downloads/DSEN2_process/Images_DSEN2/test9.tif --roi_x_y \"1260,8700,2200,9700\" --copy_original_bands\n",
    "\n"
   ]
  },
  {
   "cell_type": "code",
   "execution_count": 22,
   "id": "eb8a17be-43f8-4836-b8db-078261fe2e50",
   "metadata": {},
   "outputs": [
    {
     "name": "stdout",
     "output_type": "stream",
     "text": [
      "SENTINEL2_L2A:C:/Users/nkalimip/Downloads/DSEN2_process/Images_unzipped/S2B_MSIL2A_20200627T173909_N0214_R098_T13TGM_20200627T213600/S2B_MSIL2A_20200627T173909_N0214_R098_T13TGM_20200627T213600.SAFE/MTD_MSIL2A.xml:10m:EPSG_32613\n",
      "SENTINEL2_L2A:C:/Users/nkalimip/Downloads/DSEN2_process/Images_unzipped/S2B_MSIL2A_20200627T173909_N0214_R098_T13TGM_20200627T213600/S2B_MSIL2A_20200627T173909_N0214_R098_T13TGM_20200627T213600.SAFE/MTD_MSIL2A.xml:20m:EPSG_32613\n",
      "SENTINEL2_L2A:C:/Users/nkalimip/Downloads/DSEN2_process/Images_unzipped/S2B_MSIL2A_20200627T173909_N0214_R098_T13TGM_20200627T213600/S2B_MSIL2A_20200627T173909_N0214_R098_T13TGM_20200627T213600.SAFE/MTD_MSIL2A.xml:60m:EPSG_32613\n",
      "SENTINEL2_L2A:C:/Users/nkalimip/Downloads/DSEN2_process/Images_unzipped/S2B_MSIL2A_20200627T173909_N0214_R098_T13TGM_20200627T213600/S2B_MSIL2A_20200627T173909_N0214_R098_T13TGM_20200627T213600.SAFE/MTD_MSIL2A.xml:TCI:EPSG_32613\n",
      "Selected UTM Zone: UTM 13N\n",
      "Selected pixel region: xmin=10938, ymin=420, xmax=10943, ymax=419:\n",
      "Image size: width=6 x height=0\n",
      "Invalid region of interest / UTM Zone combination\n"
     ]
    }
   ],
   "source": [
    "%run s2_tiles_supres.py C:/Users/nkalimip/Downloads/DSEN2_process/Images_unzipped/S2B_MSIL2A_20200627T173909_N0214_R098_T13TGM_20200627T213600/S2B_MSIL2A_20200627T173909_N0214_R098_T13TGM_20200627T213600.SAFE/MTD_MSIL2A.xml C:/Users/nkalimip/Downloads/DSEN2_process/Images_DSEN2/S2B_MSIL2A_20200627T173909_N0214_R098_T13TGM_20200627T213600.tif --roi_x_y \"10943,423,10944,424\""
   ]
  },
  {
   "cell_type": "code",
   "execution_count": 23,
   "id": "14e2de39-b750-479d-a483-bed687bb1126",
   "metadata": {},
   "outputs": [
    {
     "name": "stdout",
     "output_type": "stream",
     "text": [
      "SENTINEL2_L2A:C:/Users/nkalimip/Downloads/DSEN2_process/Images_unzipped/S2B_MSIL2A_20200627T173909_N0214_R098_T14TLS_20200627T213600/S2B_MSIL2A_20200627T173909_N0214_R098_T14TLS_20200627T213600.SAFE/MTD_MSIL2A.xml:10m:EPSG_32614\n",
      "SENTINEL2_L2A:C:/Users/nkalimip/Downloads/DSEN2_process/Images_unzipped/S2B_MSIL2A_20200627T173909_N0214_R098_T14TLS_20200627T213600/S2B_MSIL2A_20200627T173909_N0214_R098_T14TLS_20200627T213600.SAFE/MTD_MSIL2A.xml:20m:EPSG_32614\n",
      "SENTINEL2_L2A:C:/Users/nkalimip/Downloads/DSEN2_process/Images_unzipped/S2B_MSIL2A_20200627T173909_N0214_R098_T14TLS_20200627T213600/S2B_MSIL2A_20200627T173909_N0214_R098_T14TLS_20200627T213600.SAFE/MTD_MSIL2A.xml:60m:EPSG_32614\n",
      "SENTINEL2_L2A:C:/Users/nkalimip/Downloads/DSEN2_process/Images_unzipped/S2B_MSIL2A_20200627T173909_N0214_R098_T14TLS_20200627T213600/S2B_MSIL2A_20200627T173909_N0214_R098_T14TLS_20200627T213600.SAFE/MTD_MSIL2A.xml:TCI:EPSG_32614\n",
      "Selected UTM Zone: UTM 14N\n",
      "Selected pixel region: xmin=5316, ymin=1074, xmax=5483, ymax=2345:\n",
      "Image size: width=168 x height=1272\n",
      "Selected 10m bands: B4 B3 B2 B8\n",
      "Selected 20m bands: B5 B6 B7 B8A B11 B12\n",
      "Selected 60m bands:\n",
      "Loading selected data from: Bands B2, B3, B4, B8 with 10m resolution, UTM 14N\n",
      "Loading selected data from: Bands B5, B6, B7, B8A, B11, B12, AOT, CLD, SCL, SNW, WVP with 20m resolution, UTM 14N\n",
      "Super-resolving the 20m data into 10m bands\n",
      "Symbolic Model Created.\n",
      "Predicting using file: ../models/s2_032_lr_1e-04.hdf5\n",
      "1/1 [==============================] - 0s 222ms/step\n",
      "(6, 1272, 168)\n",
      "Writing the super-resolved bands in C:/Users/nkalimip/Downloads/DSEN2_process/Images_DSEN2/S2B_MSIL2A_20200627T173909_N0214_R098_T14TLS_20200627T213600.tif\n",
      "SRB5 (705 nm)\n",
      "SRB6 (740 nm)\n",
      "SRB7 (783 nm)\n",
      "SRB8A (865 nm)\n",
      "SRB11 (1610 nm)\n",
      "SRB12 (2190 nm)\n"
     ]
    }
   ],
   "source": [
    "%run s2_tiles_supres.py C:/Users/nkalimip/Downloads/DSEN2_process/Images_unzipped/S2B_MSIL2A_20200627T173909_N0214_R098_T14TLS_20200627T213600/S2B_MSIL2A_20200627T173909_N0214_R098_T14TLS_20200627T213600.SAFE/MTD_MSIL2A.xml C:/Users/nkalimip/Downloads/DSEN2_process/Images_DSEN2/S2B_MSIL2A_20200627T173909_N0214_R098_T14TLS_20200627T213600.tif --roi_x_y \"5316,1077,5485,2346\""
   ]
  },
  {
   "cell_type": "code",
   "execution_count": 24,
   "id": "70ed4657-8748-4e45-a6df-59ee8345df39",
   "metadata": {},
   "outputs": [
    {
     "name": "stdout",
     "output_type": "stream",
     "text": [
      "SENTINEL2_L2A:C:/Users/nkalimip/Downloads/DSEN2_process/Images_unzipped/S2B_MSIL2A_20210401T183919_N0300_R070_T10SGG_20210401T224235/S2B_MSIL2A_20210401T183919_N0300_R070_T10SGG_20210401T224235.SAFE/MTD_MSIL2A.xml:10m:EPSG_32610\n",
      "SENTINEL2_L2A:C:/Users/nkalimip/Downloads/DSEN2_process/Images_unzipped/S2B_MSIL2A_20210401T183919_N0300_R070_T10SGG_20210401T224235/S2B_MSIL2A_20210401T183919_N0300_R070_T10SGG_20210401T224235.SAFE/MTD_MSIL2A.xml:20m:EPSG_32610\n",
      "SENTINEL2_L2A:C:/Users/nkalimip/Downloads/DSEN2_process/Images_unzipped/S2B_MSIL2A_20210401T183919_N0300_R070_T10SGG_20210401T224235/S2B_MSIL2A_20210401T183919_N0300_R070_T10SGG_20210401T224235.SAFE/MTD_MSIL2A.xml:60m:EPSG_32610\n",
      "SENTINEL2_L2A:C:/Users/nkalimip/Downloads/DSEN2_process/Images_unzipped/S2B_MSIL2A_20210401T183919_N0300_R070_T10SGG_20210401T224235/S2B_MSIL2A_20210401T183919_N0300_R070_T10SGG_20210401T224235.SAFE/MTD_MSIL2A.xml:TCI:EPSG_32610\n",
      "Selected UTM Zone: UTM 10N\n",
      "Selected pixel region: xmin=8892, ymin=8394, xmax=9155, ymax=9659:\n",
      "Image size: width=264 x height=1266\n",
      "Selected 10m bands: B4 B3 B2 B8\n",
      "Selected 20m bands: B5 B6 B7 B8A B11 B12\n",
      "Selected 60m bands:\n",
      "Loading selected data from: Bands B2, B3, B4, B8 with 10m resolution, UTM 10N\n",
      "Loading selected data from: Bands B5, B6, B7, B8A, B11, B12, AOT, CLD, SCL, SNW, WVP with 20m resolution, UTM 10N\n",
      "Super-resolving the 20m data into 10m bands\n",
      "Symbolic Model Created.\n",
      "Predicting using file: ../models/s2_032_lr_1e-04.hdf5\n",
      "2/2 [==============================] - 1s 578ms/step\n",
      "(6, 1266, 264)\n",
      "Writing the super-resolved bands in C:/Users/nkalimip/Downloads/DSEN2_process/Images_DSEN2/S2B_MSIL2A_20210401T183919_N0300_R070_T10SGG_20210401T224235.tif\n",
      "SRB5 (705 nm)\n",
      "SRB6 (740 nm)\n",
      "SRB7 (783 nm)\n",
      "SRB8A (865 nm)\n",
      "SRB11 (1610 nm)\n",
      "SRB12 (2190 nm)\n"
     ]
    }
   ],
   "source": [
    "%run s2_tiles_supres.py C:/Users/nkalimip/Downloads/DSEN2_process/Images_unzipped/S2B_MSIL2A_20210401T183919_N0300_R070_T10SGG_20210401T224235/S2B_MSIL2A_20210401T183919_N0300_R070_T10SGG_20210401T224235.SAFE/MTD_MSIL2A.xml C:/Users/nkalimip/Downloads/DSEN2_process/Images_DSEN2/S2B_MSIL2A_20210401T183919_N0300_R070_T10SGG_20210401T224235.tif --roi_x_y \"8895,8394,9160,9663\""
   ]
  },
  {
   "cell_type": "code",
   "execution_count": 25,
   "id": "d4f4d6ce-4b18-4f28-859c-3f06c535aee3",
   "metadata": {},
   "outputs": [
    {
     "name": "stdout",
     "output_type": "stream",
     "text": [
      "SENTINEL2_L2A:C:/Users/nkalimip/Downloads/DSEN2_process/Images_unzipped/S2B_MSIL2A_20210401T183919_N0300_R070_T11SKB_20210401T224235/S2B_MSIL2A_20210401T183919_N0300_R070_T11SKB_20210401T224235.SAFE/MTD_MSIL2A.xml:10m:EPSG_32611\n",
      "SENTINEL2_L2A:C:/Users/nkalimip/Downloads/DSEN2_process/Images_unzipped/S2B_MSIL2A_20210401T183919_N0300_R070_T11SKB_20210401T224235/S2B_MSIL2A_20210401T183919_N0300_R070_T11SKB_20210401T224235.SAFE/MTD_MSIL2A.xml:20m:EPSG_32611\n",
      "SENTINEL2_L2A:C:/Users/nkalimip/Downloads/DSEN2_process/Images_unzipped/S2B_MSIL2A_20210401T183919_N0300_R070_T11SKB_20210401T224235/S2B_MSIL2A_20210401T183919_N0300_R070_T11SKB_20210401T224235.SAFE/MTD_MSIL2A.xml:60m:EPSG_32611\n",
      "SENTINEL2_L2A:C:/Users/nkalimip/Downloads/DSEN2_process/Images_unzipped/S2B_MSIL2A_20210401T183919_N0300_R070_T11SKB_20210401T224235/S2B_MSIL2A_20210401T183919_N0300_R070_T11SKB_20210401T224235.SAFE/MTD_MSIL2A.xml:TCI:EPSG_32611\n",
      "Selected UTM Zone: UTM 11N\n",
      "Selected pixel region: xmin=5598, ymin=8550, xmax=5813, ymax=9839:\n",
      "Image size: width=216 x height=1290\n",
      "Selected 10m bands: B4 B3 B2 B8\n",
      "Selected 20m bands: B5 B6 B7 B8A B11 B12\n",
      "Selected 60m bands:\n",
      "Loading selected data from: Bands B2, B3, B4, B8 with 10m resolution, UTM 11N\n",
      "Loading selected data from: Bands B5, B6, B7, B8A, B11, B12, AOT, CLD, SCL, SNW, WVP with 20m resolution, UTM 11N\n",
      "Super-resolving the 20m data into 10m bands\n",
      "Symbolic Model Created.\n",
      "Predicting using file: ../models/s2_032_lr_1e-04.hdf5\n",
      "1/1 [==============================] - 0s 172ms/step\n",
      "(6, 1290, 216)\n",
      "Writing the super-resolved bands in C:/Users/nkalimip/Downloads/DSEN2_process/Images_DSEN2/S2B_MSIL2A_20210401T183919_N0300_R070_T11SKB_20210401T224235.tif\n",
      "SRB5 (705 nm)\n",
      "SRB6 (740 nm)\n",
      "SRB7 (783 nm)\n",
      "SRB8A (865 nm)\n",
      "SRB11 (1610 nm)\n",
      "SRB12 (2190 nm)\n"
     ]
    }
   ],
   "source": [
    "%run s2_tiles_supres.py C:/Users/nkalimip/Downloads/DSEN2_process/Images_unzipped/S2B_MSIL2A_20210401T183919_N0300_R070_T11SKB_20210401T224235/S2B_MSIL2A_20210401T183919_N0300_R070_T11SKB_20210401T224235.SAFE/MTD_MSIL2A.xml C:/Users/nkalimip/Downloads/DSEN2_process/Images_DSEN2/S2B_MSIL2A_20210401T183919_N0300_R070_T11SKB_20210401T224235.tif --roi_x_y \"5600,8553,5817,9841\""
   ]
  },
  {
   "cell_type": "code",
   "execution_count": 26,
   "id": "a4f19efb-4fe1-4630-ac0e-3db4067f40dc",
   "metadata": {},
   "outputs": [
    {
     "name": "stdout",
     "output_type": "stream",
     "text": [
      "SENTINEL2_L2A:C:/Users/nkalimip/Downloads/DSEN2_process/Images_unzipped/S2B_MSIL2A_20210422T162829_N0300_R083_T16SCA_20210422T204151/S2B_MSIL2A_20210422T162829_N0300_R083_T16SCA_20210422T204151.SAFE/MTD_MSIL2A.xml:10m:EPSG_32616\n",
      "SENTINEL2_L2A:C:/Users/nkalimip/Downloads/DSEN2_process/Images_unzipped/S2B_MSIL2A_20210422T162829_N0300_R083_T16SCA_20210422T204151/S2B_MSIL2A_20210422T162829_N0300_R083_T16SCA_20210422T204151.SAFE/MTD_MSIL2A.xml:20m:EPSG_32616\n",
      "SENTINEL2_L2A:C:/Users/nkalimip/Downloads/DSEN2_process/Images_unzipped/S2B_MSIL2A_20210422T162829_N0300_R083_T16SCA_20210422T204151/S2B_MSIL2A_20210422T162829_N0300_R083_T16SCA_20210422T204151.SAFE/MTD_MSIL2A.xml:60m:EPSG_32616\n",
      "SENTINEL2_L2A:C:/Users/nkalimip/Downloads/DSEN2_process/Images_unzipped/S2B_MSIL2A_20210422T162829_N0300_R083_T16SCA_20210422T204151/S2B_MSIL2A_20210422T162829_N0300_R083_T16SCA_20210422T204151.SAFE/MTD_MSIL2A.xml:TCI:EPSG_32616\n",
      "Selected UTM Zone: UTM 16N\n",
      "Selected pixel region: xmin=8868, ymin=7140, xmax=9125, ymax=8477:\n",
      "Image size: width=258 x height=1338\n",
      "Selected 10m bands: B4 B3 B2 B8\n",
      "Selected 20m bands: B5 B6 B7 B8A B11 B12\n",
      "Selected 60m bands:\n",
      "Loading selected data from: Bands B2, B3, B4, B8 with 10m resolution, UTM 16N\n",
      "Loading selected data from: Bands B5, B6, B7, B8A, B11, B12, AOT, CLD, SCL, SNW, WVP with 20m resolution, UTM 16N\n",
      "Super-resolving the 20m data into 10m bands\n",
      "Symbolic Model Created.\n",
      "Predicting using file: ../models/s2_032_lr_1e-04.hdf5\n",
      "2/2 [==============================] - 0s 216ms/step\n",
      "(6, 1338, 258)\n",
      "Writing the super-resolved bands in C:/Users/nkalimip/Downloads/DSEN2_process/Images_DSEN2/S2B_MSIL2A_20210422T162829_N0300_R083_T16SCA_20210422T204151.tif\n",
      "SRB5 (705 nm)\n",
      "SRB6 (740 nm)\n",
      "SRB7 (783 nm)\n",
      "SRB8A (865 nm)\n",
      "SRB11 (1610 nm)\n",
      "SRB12 (2190 nm)\n"
     ]
    }
   ],
   "source": [
    "%run s2_tiles_supres.py C:/Users/nkalimip/Downloads/DSEN2_process/Images_unzipped/S2B_MSIL2A_20210422T162829_N0300_R083_T16SCA_20210422T204151/S2B_MSIL2A_20210422T162829_N0300_R083_T16SCA_20210422T204151.SAFE/MTD_MSIL2A.xml C:/Users/nkalimip/Downloads/DSEN2_process/Images_DSEN2/S2B_MSIL2A_20210422T162829_N0300_R083_T16SCA_20210422T204151.tif --roi_x_y \"8873,7145,9125,8478\""
   ]
  },
  {
   "cell_type": "code",
   "execution_count": 27,
   "id": "45e09781-9f09-4f98-9f98-392600067d48",
   "metadata": {},
   "outputs": [
    {
     "name": "stdout",
     "output_type": "stream",
     "text": [
      "SENTINEL2_L2A:C:/Users/nkalimip/Downloads/DSEN2_process/Images_unzipped/S2B_MSIL2A_20210612T173909_N0300_R098_T13TGM_20210612T215521/S2B_MSIL2A_20210612T173909_N0300_R098_T13TGM_20210612T215521.SAFE/MTD_MSIL2A.xml:10m:EPSG_32613\n",
      "SENTINEL2_L2A:C:/Users/nkalimip/Downloads/DSEN2_process/Images_unzipped/S2B_MSIL2A_20210612T173909_N0300_R098_T13TGM_20210612T215521/S2B_MSIL2A_20210612T173909_N0300_R098_T13TGM_20210612T215521.SAFE/MTD_MSIL2A.xml:20m:EPSG_32613\n",
      "SENTINEL2_L2A:C:/Users/nkalimip/Downloads/DSEN2_process/Images_unzipped/S2B_MSIL2A_20210612T173909_N0300_R098_T13TGM_20210612T215521/S2B_MSIL2A_20210612T173909_N0300_R098_T13TGM_20210612T215521.SAFE/MTD_MSIL2A.xml:60m:EPSG_32613\n",
      "SENTINEL2_L2A:C:/Users/nkalimip/Downloads/DSEN2_process/Images_unzipped/S2B_MSIL2A_20210612T173909_N0300_R098_T13TGM_20210612T215521/S2B_MSIL2A_20210612T173909_N0300_R098_T13TGM_20210612T215521.SAFE/MTD_MSIL2A.xml:TCI:EPSG_32613\n",
      "Selected UTM Zone: UTM 13N\n",
      "Selected pixel region: xmin=10932, ymin=474, xmax=10931, ymax=473:\n",
      "Image size: width=0 x height=0\n",
      "Invalid region of interest / UTM Zone combination\n"
     ]
    }
   ],
   "source": [
    "%run s2_tiles_supres.py C:/Users/nkalimip/Downloads/DSEN2_process/Images_unzipped/S2B_MSIL2A_20210612T173909_N0300_R098_T13TGM_20210612T215521/S2B_MSIL2A_20210612T173909_N0300_R098_T13TGM_20210612T215521.SAFE/MTD_MSIL2A.xml C:/Users/nkalimip/Downloads/DSEN2_process/Images_DSEN2/S2B_MSIL2A_20210612T173909_N0300_R098_T13TGM_20210612T215521.tif --roi_x_y \"10935,475,10936,478\""
   ]
  },
  {
   "cell_type": "code",
   "execution_count": 28,
   "id": "8a3911fb-8bfc-4e02-90ca-1008d36e569a",
   "metadata": {},
   "outputs": [
    {
     "name": "stdout",
     "output_type": "stream",
     "text": [
      "SENTINEL2_L2A:C:/Users/nkalimip/Downloads/DSEN2_process/Images_unzipped/S2B_MSIL2A_20210612T173909_N0300_R098_T14TLS_20210612T215521/S2B_MSIL2A_20210612T173909_N0300_R098_T14TLS_20210612T215521.SAFE/MTD_MSIL2A.xml:10m:EPSG_32614\n",
      "SENTINEL2_L2A:C:/Users/nkalimip/Downloads/DSEN2_process/Images_unzipped/S2B_MSIL2A_20210612T173909_N0300_R098_T14TLS_20210612T215521/S2B_MSIL2A_20210612T173909_N0300_R098_T14TLS_20210612T215521.SAFE/MTD_MSIL2A.xml:20m:EPSG_32614\n",
      "SENTINEL2_L2A:C:/Users/nkalimip/Downloads/DSEN2_process/Images_unzipped/S2B_MSIL2A_20210612T173909_N0300_R098_T14TLS_20210612T215521/S2B_MSIL2A_20210612T173909_N0300_R098_T14TLS_20210612T215521.SAFE/MTD_MSIL2A.xml:60m:EPSG_32614\n",
      "SENTINEL2_L2A:C:/Users/nkalimip/Downloads/DSEN2_process/Images_unzipped/S2B_MSIL2A_20210612T173909_N0300_R098_T14TLS_20210612T215521/S2B_MSIL2A_20210612T173909_N0300_R098_T14TLS_20210612T215521.SAFE/MTD_MSIL2A.xml:TCI:EPSG_32614\n",
      "Selected UTM Zone: UTM 14N\n",
      "Selected pixel region: xmin=5268, ymin=1068, xmax=5507, ymax=2345:\n",
      "Image size: width=240 x height=1278\n",
      "Selected 10m bands: B4 B3 B2 B8\n",
      "Selected 20m bands: B5 B6 B7 B8A B11 B12\n",
      "Selected 60m bands:\n",
      "Loading selected data from: Bands B2, B3, B4, B8 with 10m resolution, UTM 14N\n",
      "Loading selected data from: Bands B5, B6, B7, B8A, B11, B12, AOT, CLD, SCL, SNW, WVP with 20m resolution, UTM 14N\n",
      "Super-resolving the 20m data into 10m bands\n",
      "Symbolic Model Created.\n",
      "Predicting using file: ../models/s2_032_lr_1e-04.hdf5\n",
      "2/2 [==============================] - 0s 229ms/step\n",
      "(6, 1278, 240)\n",
      "Writing the super-resolved bands in C:/Users/nkalimip/Downloads/DSEN2_process/Images_DSEN2/S2B_MSIL2A_20210612T173909_N0300_R098_T14TLS_20210612T215521.tif\n",
      "SRB5 (705 nm)\n",
      "SRB6 (740 nm)\n",
      "SRB7 (783 nm)\n",
      "SRB8A (865 nm)\n",
      "SRB11 (1610 nm)\n",
      "SRB12 (2190 nm)\n"
     ]
    }
   ],
   "source": [
    "%run s2_tiles_supres.py C:/Users/nkalimip/Downloads/DSEN2_process/Images_unzipped/S2B_MSIL2A_20210612T173909_N0300_R098_T14TLS_20210612T215521/S2B_MSIL2A_20210612T173909_N0300_R098_T14TLS_20210612T215521.SAFE/MTD_MSIL2A.xml C:/Users/nkalimip/Downloads/DSEN2_process/Images_DSEN2/S2B_MSIL2A_20210612T173909_N0300_R098_T14TLS_20210612T215521.tif --roi_x_y \"5272,1069,5509,2350\""
   ]
  },
  {
   "cell_type": "code",
   "execution_count": 29,
   "id": "1e23bbc9-85fa-4ce7-9ba2-042be40be07b",
   "metadata": {},
   "outputs": [
    {
     "name": "stdout",
     "output_type": "stream",
     "text": [
      "SENTINEL2_L2A:C:/Users/nkalimip/Downloads/DSEN2_process/Images_unzipped/S2B_MSIL2A_20210716T185919_N0301_R013_T10TER_20210716T214658/S2B_MSIL2A_20210716T185919_N0301_R013_T10TER_20210716T214658.SAFE/MTD_MSIL2A.xml:10m:EPSG_32610\n",
      "SENTINEL2_L2A:C:/Users/nkalimip/Downloads/DSEN2_process/Images_unzipped/S2B_MSIL2A_20210716T185919_N0301_R013_T10TER_20210716T214658/S2B_MSIL2A_20210716T185919_N0301_R013_T10TER_20210716T214658.SAFE/MTD_MSIL2A.xml:20m:EPSG_32610\n",
      "SENTINEL2_L2A:C:/Users/nkalimip/Downloads/DSEN2_process/Images_unzipped/S2B_MSIL2A_20210716T185919_N0301_R013_T10TER_20210716T214658/S2B_MSIL2A_20210716T185919_N0301_R013_T10TER_20210716T214658.SAFE/MTD_MSIL2A.xml:60m:EPSG_32610\n",
      "SENTINEL2_L2A:C:/Users/nkalimip/Downloads/DSEN2_process/Images_unzipped/S2B_MSIL2A_20210716T185919_N0301_R013_T10TER_20210716T214658/S2B_MSIL2A_20210716T185919_N0301_R013_T10TER_20210716T214658.SAFE/MTD_MSIL2A.xml:TCI:EPSG_32610\n",
      "Selected UTM Zone: UTM 10N\n",
      "Selected pixel region: xmin=5052, ymin=2598, xmax=5399, ymax=3935:\n",
      "Image size: width=348 x height=1338\n",
      "Selected 10m bands: B4 B3 B2 B8\n",
      "Selected 20m bands: B5 B6 B7 B8A B11 B12\n",
      "Selected 60m bands:\n",
      "Loading selected data from: Bands B2, B3, B4, B8 with 10m resolution, UTM 10N\n",
      "Loading selected data from: Bands B5, B6, B7, B8A, B11, B12, AOT, CLD, SCL, SNW, WVP with 20m resolution, UTM 10N\n",
      "Super-resolving the 20m data into 10m bands\n",
      "Symbolic Model Created.\n",
      "Predicting using file: ../models/s2_032_lr_1e-04.hdf5\n",
      "2/2 [==============================] - 1s 1s/step\n",
      "(6, 1338, 348)\n",
      "Writing the super-resolved bands in C:/Users/nkalimip/Downloads/DSEN2_process/Images_DSEN2/S2B_MSIL2A_20210716T185919_N0301_R013_T10TER_20210716T214658_ABBY.tif\n",
      "SRB5 (705 nm)\n",
      "SRB6 (740 nm)\n",
      "SRB7 (783 nm)\n",
      "SRB8A (865 nm)\n",
      "SRB11 (1610 nm)\n",
      "SRB12 (2190 nm)\n"
     ]
    }
   ],
   "source": [
    "%run s2_tiles_supres.py C:/Users/nkalimip/Downloads/DSEN2_process/Images_unzipped/S2B_MSIL2A_20210716T185919_N0301_R013_T10TER_20210716T214658/S2B_MSIL2A_20210716T185919_N0301_R013_T10TER_20210716T214658.SAFE/MTD_MSIL2A.xml C:/Users/nkalimip/Downloads/DSEN2_process/Images_DSEN2/S2B_MSIL2A_20210716T185919_N0301_R013_T10TER_20210716T214658_ABBY.tif --roi_x_y \"5054,2598,5399,3935\""
   ]
  },
  {
   "cell_type": "code",
   "execution_count": 30,
   "id": "93bb5d23-345c-4a12-9e1c-c886d151bc9f",
   "metadata": {},
   "outputs": [
    {
     "name": "stdout",
     "output_type": "stream",
     "text": [
      "SENTINEL2_L2A:C:/Users/nkalimip/Downloads/DSEN2_process/Images_unzipped/S2B_MSIL2A_20210716T185919_N0301_R013_T10TER_20210716T214658/S2B_MSIL2A_20210716T185919_N0301_R013_T10TER_20210716T214658.SAFE/MTD_MSIL2A.xml:10m:EPSG_32610\n",
      "SENTINEL2_L2A:C:/Users/nkalimip/Downloads/DSEN2_process/Images_unzipped/S2B_MSIL2A_20210716T185919_N0301_R013_T10TER_20210716T214658/S2B_MSIL2A_20210716T185919_N0301_R013_T10TER_20210716T214658.SAFE/MTD_MSIL2A.xml:20m:EPSG_32610\n",
      "SENTINEL2_L2A:C:/Users/nkalimip/Downloads/DSEN2_process/Images_unzipped/S2B_MSIL2A_20210716T185919_N0301_R013_T10TER_20210716T214658/S2B_MSIL2A_20210716T185919_N0301_R013_T10TER_20210716T214658.SAFE/MTD_MSIL2A.xml:60m:EPSG_32610\n",
      "SENTINEL2_L2A:C:/Users/nkalimip/Downloads/DSEN2_process/Images_unzipped/S2B_MSIL2A_20210716T185919_N0301_R013_T10TER_20210716T214658/S2B_MSIL2A_20210716T185919_N0301_R013_T10TER_20210716T214658.SAFE/MTD_MSIL2A.xml:TCI:EPSG_32610\n",
      "Selected UTM Zone: UTM 10N\n",
      "Selected pixel region: xmin=7968, ymin=1536, xmax=8261, ymax=3071:\n",
      "Image size: width=294 x height=1536\n",
      "Selected 10m bands: B4 B3 B2 B8\n",
      "Selected 20m bands: B5 B6 B7 B8A B11 B12\n",
      "Selected 60m bands:\n",
      "Loading selected data from: Bands B2, B3, B4, B8 with 10m resolution, UTM 10N\n",
      "Loading selected data from: Bands B5, B6, B7, B8A, B11, B12, AOT, CLD, SCL, SNW, WVP with 20m resolution, UTM 10N\n",
      "Super-resolving the 20m data into 10m bands\n",
      "Symbolic Model Created.\n",
      "Predicting using file: ../models/s2_032_lr_1e-04.hdf5\n",
      "2/2 [==============================] - 1s 873ms/step\n",
      "(6, 1536, 294)\n",
      "Writing the super-resolved bands in C:/Users/nkalimip/Downloads/DSEN2_process/Images_DSEN2/S2B_MSIL2A_20210716T185919_N0301_R013_T10TER_20210716T214658_WREF.tif\n",
      "SRB5 (705 nm)\n",
      "SRB6 (740 nm)\n",
      "SRB7 (783 nm)\n",
      "SRB8A (865 nm)\n",
      "SRB11 (1610 nm)\n",
      "SRB12 (2190 nm)\n"
     ]
    }
   ],
   "source": [
    "%run s2_tiles_supres.py C:/Users/nkalimip/Downloads/DSEN2_process/Images_unzipped/S2B_MSIL2A_20210716T185919_N0301_R013_T10TER_20210716T214658/S2B_MSIL2A_20210716T185919_N0301_R013_T10TER_20210716T214658.SAFE/MTD_MSIL2A.xml C:/Users/nkalimip/Downloads/DSEN2_process/Images_DSEN2/S2B_MSIL2A_20210716T185919_N0301_R013_T10TER_20210716T214658_WREF.tif --roi_x_y \"7968,1541,8265,3074\""
   ]
  },
  {
   "cell_type": "code",
   "execution_count": 31,
   "id": "173dacb7-1016-40cc-9232-cd108ba4d1aa",
   "metadata": {},
   "outputs": [
    {
     "name": "stdout",
     "output_type": "stream",
     "text": [
      "SENTINEL2_L2A:C:/Users/nkalimip/Downloads/DSEN2_process/Images_unzipped/S2B_MSIL2A_20210719T190919_N0301_R056_T10TER_20210719T215339/S2B_MSIL2A_20210719T190919_N0301_R056_T10TER_20210719T215339.SAFE/MTD_MSIL2A.xml:10m:EPSG_32610\n",
      "SENTINEL2_L2A:C:/Users/nkalimip/Downloads/DSEN2_process/Images_unzipped/S2B_MSIL2A_20210719T190919_N0301_R056_T10TER_20210719T215339/S2B_MSIL2A_20210719T190919_N0301_R056_T10TER_20210719T215339.SAFE/MTD_MSIL2A.xml:20m:EPSG_32610\n",
      "SENTINEL2_L2A:C:/Users/nkalimip/Downloads/DSEN2_process/Images_unzipped/S2B_MSIL2A_20210719T190919_N0301_R056_T10TER_20210719T215339/S2B_MSIL2A_20210719T190919_N0301_R056_T10TER_20210719T215339.SAFE/MTD_MSIL2A.xml:60m:EPSG_32610\n",
      "SENTINEL2_L2A:C:/Users/nkalimip/Downloads/DSEN2_process/Images_unzipped/S2B_MSIL2A_20210719T190919_N0301_R056_T10TER_20210719T215339/S2B_MSIL2A_20210719T190919_N0301_R056_T10TER_20210719T215339.SAFE/MTD_MSIL2A.xml:TCI:EPSG_32610\n",
      "Selected UTM Zone: UTM 10N\n",
      "Selected pixel region: xmin=5058, ymin=2604, xmax=5333, ymax=3893:\n",
      "Image size: width=276 x height=1290\n",
      "Selected 10m bands: B4 B3 B2 B8\n",
      "Selected 20m bands: B5 B6 B7 B8A B11 B12\n",
      "Selected 60m bands:\n",
      "Loading selected data from: Bands B2, B3, B4, B8 with 10m resolution, UTM 10N\n",
      "Loading selected data from: Bands B5, B6, B7, B8A, B11, B12, AOT, CLD, SCL, SNW, WVP with 20m resolution, UTM 10N\n",
      "Super-resolving the 20m data into 10m bands\n",
      "Symbolic Model Created.\n",
      "Predicting using file: ../models/s2_032_lr_1e-04.hdf5\n",
      "2/2 [==============================] - 0s 217ms/step\n",
      "(6, 1290, 276)\n",
      "Writing the super-resolved bands in C:/Users/nkalimip/Downloads/DSEN2_process/Images_DSEN2/S2B_MSIL2A_20210719T190919_N0301_R056_T10TER_20210719T215339.tif\n",
      "SRB5 (705 nm)\n",
      "SRB6 (740 nm)\n",
      "SRB7 (783 nm)\n",
      "SRB8A (865 nm)\n",
      "SRB11 (1610 nm)\n",
      "SRB12 (2190 nm)\n"
     ]
    }
   ],
   "source": [
    "%run s2_tiles_supres.py C:/Users/nkalimip/Downloads/DSEN2_process/Images_unzipped/S2B_MSIL2A_20210719T190919_N0301_R056_T10TER_20210719T215339/S2B_MSIL2A_20210719T190919_N0301_R056_T10TER_20210719T215339.SAFE/MTD_MSIL2A.xml C:/Users/nkalimip/Downloads/DSEN2_process/Images_DSEN2/S2B_MSIL2A_20210719T190919_N0301_R056_T10TER_20210719T215339.tif --roi_x_y \"5060,2609,5337,3894\""
   ]
  },
  {
   "cell_type": "code",
   "execution_count": 32,
   "id": "5e83265d-3214-4a4c-8774-c25ad09f3389",
   "metadata": {},
   "outputs": [
    {
     "name": "stdout",
     "output_type": "stream",
     "text": [
      "SENTINEL2_L2A:C:/Users/nkalimip/Downloads/DSEN2_process/Images_unzipped/S2B_MSIL2A_20210808T154809_N0301_R054_T18SUJ_20210808T201351/S2B_MSIL2A_20210808T154809_N0301_R054_T18SUJ_20210808T201351.SAFE/MTD_MSIL2A.xml:10m:EPSG_32618\n",
      "SENTINEL2_L2A:C:/Users/nkalimip/Downloads/DSEN2_process/Images_unzipped/S2B_MSIL2A_20210808T154809_N0301_R054_T18SUJ_20210808T201351/S2B_MSIL2A_20210808T154809_N0301_R054_T18SUJ_20210808T201351.SAFE/MTD_MSIL2A.xml:20m:EPSG_32618\n",
      "SENTINEL2_L2A:C:/Users/nkalimip/Downloads/DSEN2_process/Images_unzipped/S2B_MSIL2A_20210808T154809_N0301_R054_T18SUJ_20210808T201351/S2B_MSIL2A_20210808T154809_N0301_R054_T18SUJ_20210808T201351.SAFE/MTD_MSIL2A.xml:60m:EPSG_32618\n",
      "SENTINEL2_L2A:C:/Users/nkalimip/Downloads/DSEN2_process/Images_unzipped/S2B_MSIL2A_20210808T154809_N0301_R054_T18SUJ_20210808T201351/S2B_MSIL2A_20210808T154809_N0301_R054_T18SUJ_20210808T201351.SAFE/MTD_MSIL2A.xml:TCI:EPSG_32618\n",
      "Selected UTM Zone: UTM 18N\n",
      "Selected pixel region: xmin=6318, ymin=8796, xmax=6545, ymax=9983:\n",
      "Image size: width=228 x height=1188\n",
      "Selected 10m bands: B4 B3 B2 B8\n",
      "Selected 20m bands: B5 B6 B7 B8A B11 B12\n",
      "Selected 60m bands:\n",
      "Loading selected data from: Bands B2, B3, B4, B8 with 10m resolution, UTM 18N\n",
      "Loading selected data from: Bands B5, B6, B7, B8A, B11, B12, AOT, CLD, SCL, SNW, WVP with 20m resolution, UTM 18N\n",
      "Super-resolving the 20m data into 10m bands\n",
      "Symbolic Model Created.\n",
      "Predicting using file: ../models/s2_032_lr_1e-04.hdf5\n",
      "2/2 [==============================] - 0s 222ms/step\n",
      "(6, 1188, 228)\n",
      "Writing the super-resolved bands in C:/Users/nkalimip/Downloads/DSEN2_process/Images_DSEN2/S2B_MSIL2A_20210808T154809_N0301_R054_T18SUJ_20210808T201351.tif\n",
      "SRB5 (705 nm)\n",
      "SRB6 (740 nm)\n",
      "SRB7 (783 nm)\n",
      "SRB8A (865 nm)\n",
      "SRB11 (1610 nm)\n",
      "SRB12 (2190 nm)\n"
     ]
    }
   ],
   "source": [
    "%run s2_tiles_supres.py C:/Users/nkalimip/Downloads/DSEN2_process/Images_unzipped/S2B_MSIL2A_20210808T154809_N0301_R054_T18SUJ_20210808T201351/S2B_MSIL2A_20210808T154809_N0301_R054_T18SUJ_20210808T201351.SAFE/MTD_MSIL2A.xml C:/Users/nkalimip/Downloads/DSEN2_process/Images_DSEN2/S2B_MSIL2A_20210808T154809_N0301_R054_T18SUJ_20210808T201351.tif --roi_x_y \"6322,8801,6545,9985\""
   ]
  },
  {
   "cell_type": "code",
   "execution_count": 33,
   "id": "d4f9214c-46d6-41c8-b1d5-fb5256d1a268",
   "metadata": {},
   "outputs": [
    {
     "name": "stdout",
     "output_type": "stream",
     "text": [
      "SENTINEL2_L2A:C:/Users/nkalimip/Downloads/DSEN2_process/Images_unzipped/S2B_MSIL2A_20210824T174909_N0301_R141_T13SCS_20210824T214914/S2B_MSIL2A_20210824T174909_N0301_R141_T13SCS_20210824T214914.SAFE/MTD_MSIL2A.xml:10m:EPSG_32613\n",
      "SENTINEL2_L2A:C:/Users/nkalimip/Downloads/DSEN2_process/Images_unzipped/S2B_MSIL2A_20210824T174909_N0301_R141_T13SCS_20210824T214914/S2B_MSIL2A_20210824T174909_N0301_R141_T13SCS_20210824T214914.SAFE/MTD_MSIL2A.xml:20m:EPSG_32613\n",
      "SENTINEL2_L2A:C:/Users/nkalimip/Downloads/DSEN2_process/Images_unzipped/S2B_MSIL2A_20210824T174909_N0301_R141_T13SCS_20210824T214914/S2B_MSIL2A_20210824T174909_N0301_R141_T13SCS_20210824T214914.SAFE/MTD_MSIL2A.xml:60m:EPSG_32613\n",
      "SENTINEL2_L2A:C:/Users/nkalimip/Downloads/DSEN2_process/Images_unzipped/S2B_MSIL2A_20210824T174909_N0301_R141_T13SCS_20210824T214914/S2B_MSIL2A_20210824T174909_N0301_R141_T13SCS_20210824T214914.SAFE/MTD_MSIL2A.xml:TCI:EPSG_32613\n",
      "Selected UTM Zone: UTM 13N\n",
      "Selected pixel region: xmin=2490, ymin=7896, xmax=2831, ymax=9941:\n",
      "Image size: width=342 x height=2046\n",
      "Selected 10m bands: B4 B3 B2 B8\n",
      "Selected 20m bands: B5 B6 B7 B8A B11 B12\n",
      "Selected 60m bands:\n",
      "Loading selected data from: Bands B2, B3, B4, B8 with 10m resolution, UTM 13N\n",
      "Loading selected data from: Bands B5, B6, B7, B8A, B11, B12, AOT, CLD, SCL, SNW, WVP with 20m resolution, UTM 13N\n",
      "Super-resolving the 20m data into 10m bands\n",
      "Symbolic Model Created.\n",
      "Predicting using file: ../models/s2_032_lr_1e-04.hdf5\n",
      "3/3 [==============================] - 1s 204ms/step\n",
      "(6, 2046, 342)\n",
      "Writing the super-resolved bands in C:/Users/nkalimip/Downloads/DSEN2_process/Images_DSEN2/S2B_MSIL2A_20210824T174909_N0301_R141_T13SCS_20210824T214914.tif\n",
      "SRB5 (705 nm)\n",
      "SRB6 (740 nm)\n",
      "SRB7 (783 nm)\n",
      "SRB8A (865 nm)\n",
      "SRB11 (1610 nm)\n",
      "SRB12 (2190 nm)\n"
     ]
    }
   ],
   "source": [
    "%run s2_tiles_supres.py C:/Users/nkalimip/Downloads/DSEN2_process/Images_unzipped/S2B_MSIL2A_20210824T174909_N0301_R141_T13SCS_20210824T214914/S2B_MSIL2A_20210824T174909_N0301_R141_T13SCS_20210824T214914.SAFE/MTD_MSIL2A.xml C:/Users/nkalimip/Downloads/DSEN2_process/Images_DSEN2/S2B_MSIL2A_20210824T174909_N0301_R141_T13SCS_20210824T214914.tif --roi_x_y \"2490,7897,2833,9943\""
   ]
  },
  {
   "cell_type": "code",
   "execution_count": 34,
   "id": "880258bd-0675-45b9-b00a-ebef9f452947",
   "metadata": {},
   "outputs": [
    {
     "name": "stdout",
     "output_type": "stream",
     "text": [
      "SENTINEL2_L2A:C:/Users/nkalimip/Downloads/DSEN2_process/Images_unzipped/S2B_MSIL2A_20210824T174909_N0301_R141_T13SCS_20210824T214914/S2B_MSIL2A_20210824T174909_N0301_R141_T13SCS_20210824T214914.SAFE/MTD_MSIL2A.xml:10m:EPSG_32613\n",
      "SENTINEL2_L2A:C:/Users/nkalimip/Downloads/DSEN2_process/Images_unzipped/S2B_MSIL2A_20210824T174909_N0301_R141_T13SCS_20210824T214914/S2B_MSIL2A_20210824T174909_N0301_R141_T13SCS_20210824T214914.SAFE/MTD_MSIL2A.xml:20m:EPSG_32613\n",
      "SENTINEL2_L2A:C:/Users/nkalimip/Downloads/DSEN2_process/Images_unzipped/S2B_MSIL2A_20210824T174909_N0301_R141_T13SCS_20210824T214914/S2B_MSIL2A_20210824T174909_N0301_R141_T13SCS_20210824T214914.SAFE/MTD_MSIL2A.xml:60m:EPSG_32613\n",
      "SENTINEL2_L2A:C:/Users/nkalimip/Downloads/DSEN2_process/Images_unzipped/S2B_MSIL2A_20210824T174909_N0301_R141_T13SCS_20210824T214914/S2B_MSIL2A_20210824T174909_N0301_R141_T13SCS_20210824T214914.SAFE/MTD_MSIL2A.xml:TCI:EPSG_32613\n",
      "Selected UTM Zone: UTM 13N\n",
      "Selected pixel region: xmin=2490, ymin=7896, xmax=2831, ymax=9941:\n",
      "Image size: width=342 x height=2046\n",
      "Selected 10m bands: B4 B3 B2 B8\n",
      "Selected 20m bands: B5 B6 B7 B8A B11 B12\n",
      "Selected 60m bands:\n",
      "Loading selected data from: Bands B2, B3, B4, B8 with 10m resolution, UTM 13N\n",
      "Loading selected data from: Bands B5, B6, B7, B8A, B11, B12, AOT, CLD, SCL, SNW, WVP with 20m resolution, UTM 13N\n",
      "Super-resolving the 20m data into 10m bands\n",
      "Symbolic Model Created.\n",
      "Predicting using file: ../models/s2_032_lr_1e-04.hdf5\n",
      "3/3 [==============================] - 1s 200ms/step\n",
      "(6, 2046, 342)\n",
      "Writing the super-resolved bands in C:/Users/nkalimip/Downloads/DSEN2_process/Images_DSEN2/test.tif\n",
      "SRB5 (705 nm)\n",
      "SRB6 (740 nm)\n",
      "SRB7 (783 nm)\n",
      "SRB8A (865 nm)\n",
      "SRB11 (1610 nm)\n",
      "SRB12 (2190 nm)\n"
     ]
    }
   ],
   "source": [
    "%run s2_tiles_supres.py C:/Users/nkalimip/Downloads/DSEN2_process/Images_unzipped/S2B_MSIL2A_20210824T174909_N0301_R141_T13SCS_20210824T214914/S2B_MSIL2A_20210824T174909_N0301_R141_T13SCS_20210824T214914.SAFE/MTD_MSIL2A.xml C:/Users/nkalimip/Downloads/DSEN2_process/Images_DSEN2/test.tif --roi_x_y \"2490,7897,2833,9943\""
   ]
  },
  {
   "cell_type": "code",
   "execution_count": null,
   "id": "59dd8ad7-bb82-4863-931f-16b594e4c80b",
   "metadata": {},
   "outputs": [],
   "source": []
  },
  {
   "cell_type": "code",
   "execution_count": null,
   "id": "6eb6791a-9173-47f9-8c37-27cfa8a236a8",
   "metadata": {},
   "outputs": [],
   "source": []
  },
  {
   "cell_type": "code",
   "execution_count": null,
   "id": "b1f17c1c-9a85-4f74-ad8f-77f24b5bfddd",
   "metadata": {},
   "outputs": [],
   "source": []
  },
  {
   "cell_type": "code",
   "execution_count": null,
   "id": "6f191725-d1ef-4e61-972e-183daaaa9259",
   "metadata": {},
   "outputs": [],
   "source": [
    "['S2A_MSIL2A_20190606T165901_N0212_R069_T15TYL_20190606T212006',\n",
    " 'S2A_MSIL2A_20190606T165901_N0212_R069_T15TYM_20190606T212006',\n",
    " 'S2A_MSIL2A_20190606T165901_N0212_R069_T16TCS_20190606T212006',\n",
    " 'S2A_MSIL2A_20200713T170901_N0214_R112_T14SQJ_20200713T213310',\n",
    " 'S2A_MSIL2A_20200713T170901_N0214_R112_T15STD_20200713T213310',\n",
    " 'S2A_MSIL2A_20200806T164901_N0214_R026_T15TYM_20200806T211742',\n",
    " 'S2A_MSIL2A_20200806T164901_N0214_R026_T16TCS_20200806T211742',\n",
    " 'S2A_MSIL2A_20210724T190921_N0301_R056_T10TER_20210724T233407',\n",
    " 'S2A_MSIL2A_20210826T173911_N0301_R098_T13SCS_20210826T234856',\n",
    " 'S2B_MSIL2A_20190608T164849_N0212_R026_T15TYL_20190608T212115',\n",
    " 'S2B_MSIL2A_20190822T173909_N0213_R098_T13SCS_20190822T220238',\n",
    " 'S2B_MSIL2A_20190825T174909_N0213_R141_T13SCS_20190825T214149',\n",
    " 'S2B_MSIL2A_20190826T153819_N0213_R011_T18TYN_20190826T195901',\n",
    " 'S2B_MSIL2A_20200627T173909_N0214_R098_T13TGM_20200627T213600',\n",
    " 'S2B_MSIL2A_20200627T173909_N0214_R098_T14TLS_20200627T213600',\n",
    " 'S2B_MSIL2A_20210401T183919_N0300_R070_T10SGG_20210401T224235',\n",
    " 'S2B_MSIL2A_20210401T183919_N0300_R070_T11SKB_20210401T224235',\n",
    " 'S2B_MSIL2A_20210422T162829_N0300_R083_T16SCA_20210422T204151',\n",
    " 'S2B_MSIL2A_20210612T173909_N0300_R098_T13TGM_20210612T215521',\n",
    " 'S2B_MSIL2A_20210612T173909_N0300_R098_T14TLS_20210612T215521',\n",
    " 'S2B_MSIL2A_20210716T185919_N0301_R013_T10TER_20210716T214658',\n",
    " 'S2B_MSIL2A_20210719T190919_N0301_R056_T10TER_20210719T215339',\n",
    " 'S2B_MSIL2A_20210808T154809_N0301_R054_T18SUJ_20210808T201351',\n",
    " 'S2B_MSIL2A_20210824T174909_N0301_R141_T13SCS_20210824T214914']"
   ]
  }
 ],
 "metadata": {
  "kernelspec": {
   "display_name": "Python 3 (ipykernel)",
   "language": "python",
   "name": "python3"
  },
  "language_info": {
   "codemirror_mode": {
    "name": "ipython",
    "version": 3
   },
   "file_extension": ".py",
   "mimetype": "text/x-python",
   "name": "python",
   "nbconvert_exporter": "python",
   "pygments_lexer": "ipython3",
   "version": "3.10.9"
  }
 },
 "nbformat": 4,
 "nbformat_minor": 5
}
